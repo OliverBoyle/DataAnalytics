{
 "cells": [
  {
   "cell_type": "markdown",
   "metadata": {
    "id": "EDbJWoO1yO8e"
   },
   "source": [
    "# Image Classification with CNN - LeNet5 architecture"
   ]
  },
  {
   "cell_type": "markdown",
   "metadata": {
    "id": "JzQxqD6HyO8i"
   },
   "source": [
    "In this exercise, we will apply the LeNet5 algorithm to the Fashion MNIST dataset and improve your performances."
   ]
  },
  {
   "cell_type": "markdown",
   "metadata": {
    "id": "XFyVotRvyO8j"
   },
   "source": [
    "We will first download the data:"
   ]
  },
  {
   "cell_type": "code",
   "execution_count": 1,
   "metadata": {
    "colab": {
     "base_uri": "https://localhost:8080/"
    },
    "id": "RTHLyL1fyO8j",
    "outputId": "29f4306c-9696-4e61-f94b-bac4b83a2fb1",
    "scrolled": true
   },
   "outputs": [
    {
     "name": "stdout",
     "output_type": "stream",
     "text": [
      "Downloading data from https://storage.googleapis.com/tensorflow/tf-keras-datasets/train-labels-idx1-ubyte.gz\n",
      "32768/29515 [=================================] - 0s 0us/step\n",
      "40960/29515 [=========================================] - 0s 0us/step\n",
      "Downloading data from https://storage.googleapis.com/tensorflow/tf-keras-datasets/train-images-idx3-ubyte.gz\n",
      "26427392/26421880 [==============================] - 0s 0us/step\n",
      "26435584/26421880 [==============================] - 0s 0us/step\n",
      "Downloading data from https://storage.googleapis.com/tensorflow/tf-keras-datasets/t10k-labels-idx1-ubyte.gz\n",
      "16384/5148 [===============================================================================================] - 0s 0us/step\n",
      "Downloading data from https://storage.googleapis.com/tensorflow/tf-keras-datasets/t10k-images-idx3-ubyte.gz\n",
      "4423680/4422102 [==============================] - 0s 0us/step\n",
      "4431872/4422102 [==============================] - 0s 0us/step\n"
     ]
    },
    {
     "data": {
      "text/plain": [
       "(60000, 28, 28)"
      ]
     },
     "execution_count": 1,
     "metadata": {},
     "output_type": "execute_result"
    }
   ],
   "source": [
    "# TODO: Load the dataset\n",
    "from tensorflow.keras.datasets import fashion_mnist\n",
    "\n",
    "(X_train, y_train), (X_test, y_test) = fashion_mnist.load_data()\n",
    "\n",
    "# # # If your computer is slow, try to use a subset of data, e.g.\n",
    "# X_train = X_train[:10000]\n",
    "# y_train = y_train[:10000]\n",
    "# X_test = X_test[:2000]\n",
    "# y_test = y_test[:2000]\n",
    "X_train.shape"
   ]
  },
  {
   "cell_type": "markdown",
   "metadata": {
    "id": "c8ShXIANyO8l"
   },
   "source": [
    "As you already know, this dataset contains 10 classes:\n",
    "* 0:\tT-shirt/top\n",
    "* 1:\tTrouser\n",
    "* 2:\tPullover\n",
    "* 3:\tDress\n",
    "* 4:\tCoat\n",
    "* 5:\tSandal\n",
    "* 6:\tShirt\n",
    "* 7:\tSneaker\n",
    "* 8:\tBag\n",
    "* 9:\tAnkle boot"
   ]
  },
  {
   "cell_type": "markdown",
   "metadata": {
    "id": "_BvNG0PbyO8l"
   },
   "source": [
    "You can have a look at some images if needed, even if you already know them."
   ]
  },
  {
   "cell_type": "code",
   "execution_count": 15,
   "metadata": {
    "colab": {
     "base_uri": "https://localhost:8080/",
     "height": 281
    },
    "id": "lnjqgv-GyO8m",
    "outputId": "bd5de7f1-cd80-4a53-daca-26a008684a30",
    "scrolled": true
   },
   "outputs": [
    {
     "data": {
      "image/png": "[encoded data removed]",
      "text/plain": [
       "<Figure size 432x288 with 1 Axes>"
      ]
     },
     "metadata": {
      "needs_background": "light"
     },
     "output_type": "display_data"
    }
   ],
   "source": [
    "# TODO: Explore the data, display some input images\n",
    "%matplotlib inline\n",
    "import matplotlib.pyplot as plt\n",
    "import numpy as np\n",
    "\n",
    "label_class = ['top', 'trouser', 'pullover', 'dress', 'coat', 'sandal', 'shirt', 'sneaker', 'bag', 'ankle boot']\n",
    "\n",
    "idx = np.random.randint(X_train.shape[0])\n",
    "\n",
    "plt.imshow(X_train[idx], cmap=\"gray_r\")\n",
    "plt.title(label_class[y_train[idx]])\n",
    "plt.show()"
   ]
  },
  {
   "cell_type": "markdown",
   "metadata": {
    "id": "AdYH6XW1yO8n"
   },
   "source": [
    "Make the data preparation and preprocessing: scale and reshape the data, put the labels to the good shape."
   ]
  },
  {
   "cell_type": "code",
   "execution_count": 16,
   "metadata": {
    "colab": {
     "base_uri": "https://localhost:8080/"
    },
    "id": "fjv8XMPByO8o",
    "outputId": "6c9e23dd-db57-483d-d97e-ec7484a0e683"
   },
   "outputs": [
    {
     "data": {
      "text/plain": [
       "(60000, 28, 28, 1)"
      ]
     },
     "execution_count": 16,
     "metadata": {},
     "output_type": "execute_result"
    }
   ],
   "source": [
    "# TODO: Make the data preparation\n",
    "from tensorflow.keras.utils import to_categorical\n",
    "\n",
    "y_train_cat = to_categorical(y_train)\n",
    "y_test_cat = to_categorical(y_test)\n",
    "\n",
    "X_train_norm = X_train/255\n",
    "X_test_norm = X_test/25\n",
    "\n",
    "\n",
    "X_train_norm = X_train_norm.reshape(X_train_norm.shape[0], 28, 28,1)\n",
    "X_test_norm = X_test_norm.reshape(X_test_norm.shape[0], 28, 28,1)\n",
    "\n",
    "X_train_norm.shape #Should be (60000, 28, 28, 1)"
   ]
  },
  {
   "cell_type": "markdown",
   "metadata": {
    "id": "y9LKzxR9yO8o"
   },
   "source": [
    "Now build the LeNet5 architecture. You can reuse the one of the course, or try to build it by yourself.\n",
    "\n",
    "The architecture is the following:\n",
    "\n",
    "<p align=\"center\">\n",
    "<img src=\"https://drive.google.com/uc?export=view&id=1WteTU2FPIVMkBKmMxGpFm5OjsX-szTbB\">\n",
    "</p>"
   ]
  },
  {
   "cell_type": "code",
   "execution_count": 17,
   "metadata": {
    "colab": {
     "base_uri": "https://localhost:8080/"
    },
    "id": "GKyMFlL6yO8o",
    "outputId": "d81131b7-e75d-4dba-f398-d53808d9702c"
   },
   "outputs": [
    {
     "name": "stdout",
     "output_type": "stream",
     "text": [
      "Model: \"sequential_9\"\n",
      "_________________________________________________________________\n",
      " Layer (type)                Output Shape              Param #   \n",
      "=================================================================\n",
      " C1 (Conv2D)                 (None, 26, 26, 6)         60        \n",
      "                                                                 \n",
      " S2 (MaxPooling2D)           (None, 13, 13, 6)         0         \n",
      "                                                                 \n",
      " C3 (Conv2D)                 (None, 11, 11, 16)        880       \n",
      "                                                                 \n",
      " S4 (MaxPooling2D)           (None, 5, 5, 16)          0         \n",
      "                                                                 \n",
      " flatten_8 (Flatten)         (None, 400)               0         \n",
      "                                                                 \n",
      " C5 (Dense)                  (None, 120)               48120     \n",
      "                                                                 \n",
      " F6 (Dense)                  (None, 84)                10164     \n",
      "                                                                 \n",
      " dense_8 (Dense)             (None, 10)                850       \n",
      "                                                                 \n",
      "=================================================================\n",
      "Total params: 60,074\n",
      "Trainable params: 60,074\n",
      "Non-trainable params: 0\n",
      "_________________________________________________________________\n"
     ]
    }
   ],
   "source": [
    "# TODO: Build your model\n",
    "from tensorflow.keras.models import Sequential\n",
    "from tensorflow.keras.layers import MaxPooling2D, Conv2D, Flatten, Dense\n",
    "\n",
    "\n",
    "def lenet5():\n",
    "    \n",
    "    model = Sequential()\n",
    "\n",
    "    # Layer C1\n",
    "    model.add(Conv2D(filters=6, name='C1', kernel_size=(3, 3), activation='relu', input_shape=(28,28,1)))\n",
    "    # Layer S2\n",
    "    model.add(MaxPooling2D(pool_size=(2, 2), name='S2'))\n",
    "    # Layer C3\n",
    "    model.add(Conv2D(filters=16, name='C3', kernel_size=(3, 3), activation='relu'))\n",
    "    # Layer S4\n",
    "    model.add(MaxPooling2D(pool_size=(2, 2), name='S4'))\n",
    "    # Before going into layer C5, we flatten our units\n",
    "    model.add(Flatten())\n",
    "    # Layer C5\n",
    "    model.add(Dense(120, name='C5', activation ='relu'))\n",
    "    # Layer F6\n",
    "    model.add(Dense(84, name= 'F6', activation ='relu'))\n",
    "    # Output layer\n",
    "    model.add(Dense(units=10, activation = 'softmax'))\n",
    "    \n",
    "    return model\n",
    "\n",
    "lenet5().summary()"
   ]
  },
  {
   "cell_type": "markdown",
   "metadata": {
    "id": "i1qBEauqyO8p"
   },
   "source": [
    "Now compile and fit your model on your training data. Since this is a multiclass classification, the loss is not `binary_crossentropy` anymore, but `categorical_crossentropy`."
   ]
  },
  {
   "cell_type": "code",
   "execution_count": 18,
   "metadata": {
    "colab": {
     "base_uri": "https://localhost:8080/"
    },
    "id": "nPL3aKnyyO8p",
    "outputId": "6d35d449-b423-460f-ad8c-6188adbc19d8",
    "scrolled": true
   },
   "outputs": [
    {
     "name": "stdout",
     "output_type": "stream",
     "text": [
      "Epoch 1/100\n",
      "30/30 [==============================] - 2s 36ms/step - loss: 1.6271 - accuracy: 0.4932 - val_loss: 3.7205 - val_accuracy: 0.6155\n",
      "Epoch 2/100\n",
      "30/30 [==============================] - 1s 25ms/step - loss: 0.8207 - accuracy: 0.7016 - val_loss: 3.5611 - val_accuracy: 0.7081\n",
      "Epoch 3/100\n",
      "30/30 [==============================] - 1s 25ms/step - loss: 0.6577 - accuracy: 0.7578 - val_loss: 3.1910 - val_accuracy: 0.7499\n",
      "Epoch 4/100\n",
      "30/30 [==============================] - 1s 25ms/step - loss: 0.5824 - accuracy: 0.7845 - val_loss: 3.0988 - val_accuracy: 0.7681\n",
      "Epoch 5/100\n",
      "30/30 [==============================] - 1s 25ms/step - loss: 0.5287 - accuracy: 0.8098 - val_loss: 2.9271 - val_accuracy: 0.7834\n",
      "Epoch 6/100\n",
      "30/30 [==============================] - 1s 25ms/step - loss: 0.4954 - accuracy: 0.8232 - val_loss: 2.9195 - val_accuracy: 0.7917\n",
      "Epoch 7/100\n",
      "30/30 [==============================] - 1s 25ms/step - loss: 0.4775 - accuracy: 0.8313 - val_loss: 2.4825 - val_accuracy: 0.8121\n",
      "Epoch 8/100\n",
      "30/30 [==============================] - 1s 25ms/step - loss: 0.4614 - accuracy: 0.8364 - val_loss: 2.8442 - val_accuracy: 0.7971\n",
      "Epoch 9/100\n",
      "30/30 [==============================] - 1s 25ms/step - loss: 0.4448 - accuracy: 0.8424 - val_loss: 2.6163 - val_accuracy: 0.8120\n",
      "Epoch 10/100\n",
      "30/30 [==============================] - 1s 25ms/step - loss: 0.4326 - accuracy: 0.8482 - val_loss: 2.8432 - val_accuracy: 0.8084\n",
      "Epoch 11/100\n",
      "30/30 [==============================] - 1s 26ms/step - loss: 0.4252 - accuracy: 0.8490 - val_loss: 2.4306 - val_accuracy: 0.8179\n",
      "Epoch 12/100\n",
      "30/30 [==============================] - 1s 24ms/step - loss: 0.4126 - accuracy: 0.8546 - val_loss: 2.8169 - val_accuracy: 0.8082\n",
      "Epoch 13/100\n",
      "30/30 [==============================] - 1s 26ms/step - loss: 0.4044 - accuracy: 0.8563 - val_loss: 2.2863 - val_accuracy: 0.8295\n",
      "Epoch 14/100\n",
      "30/30 [==============================] - 1s 26ms/step - loss: 0.3926 - accuracy: 0.8604 - val_loss: 2.4119 - val_accuracy: 0.8233\n",
      "Epoch 15/100\n",
      "30/30 [==============================] - 1s 25ms/step - loss: 0.3860 - accuracy: 0.8629 - val_loss: 2.4074 - val_accuracy: 0.8272\n",
      "Epoch 16/100\n",
      "30/30 [==============================] - 1s 26ms/step - loss: 0.3797 - accuracy: 0.8645 - val_loss: 2.1212 - val_accuracy: 0.8403\n",
      "Epoch 17/100\n",
      "30/30 [==============================] - 1s 25ms/step - loss: 0.3703 - accuracy: 0.8690 - val_loss: 2.4070 - val_accuracy: 0.8272\n",
      "Epoch 18/100\n",
      "30/30 [==============================] - 1s 26ms/step - loss: 0.3626 - accuracy: 0.8708 - val_loss: 2.1606 - val_accuracy: 0.8388\n",
      "Epoch 19/100\n",
      "30/30 [==============================] - 1s 25ms/step - loss: 0.3611 - accuracy: 0.8710 - val_loss: 2.2372 - val_accuracy: 0.8340\n",
      "Epoch 20/100\n",
      "30/30 [==============================] - 1s 26ms/step - loss: 0.3533 - accuracy: 0.8739 - val_loss: 2.2956 - val_accuracy: 0.8358\n",
      "Epoch 21/100\n",
      "30/30 [==============================] - 1s 25ms/step - loss: 0.3507 - accuracy: 0.8740 - val_loss: 2.6275 - val_accuracy: 0.8220\n",
      "Epoch 22/100\n",
      "30/30 [==============================] - 1s 25ms/step - loss: 0.3467 - accuracy: 0.8752 - val_loss: 2.5744 - val_accuracy: 0.8222\n",
      "Epoch 23/100\n",
      "30/30 [==============================] - 1s 26ms/step - loss: 0.3406 - accuracy: 0.8761 - val_loss: 2.3948 - val_accuracy: 0.8304\n",
      "Epoch 24/100\n",
      "30/30 [==============================] - 1s 25ms/step - loss: 0.3387 - accuracy: 0.8769 - val_loss: 2.5034 - val_accuracy: 0.8247\n",
      "Epoch 25/100\n",
      "30/30 [==============================] - 1s 26ms/step - loss: 0.3317 - accuracy: 0.8803 - val_loss: 2.5715 - val_accuracy: 0.8179\n",
      "Epoch 26/100\n",
      "30/30 [==============================] - 1s 26ms/step - loss: 0.3282 - accuracy: 0.8820 - val_loss: 2.2205 - val_accuracy: 0.8334\n"
     ]
    },
    {
     "data": {
      "text/plain": [
       "<keras.callbacks.History at 0x7f2d4cf585d0>"
      ]
     },
     "execution_count": 18,
     "metadata": {},
     "output_type": "execute_result"
    }
   ],
   "source": [
    "# TODO: Compile and fit your model\n",
    "import os\n",
    "\n",
    "# os.environ['KMP_DUPLICATE_LIB_OK']='True' #https://stackoverflow.com/questions/53014306/error-15-initializing-libiomp5-dylib-but-found-libiomp5-dylib-already-initial\n",
    "\n",
    "\n",
    "from tensorflow.keras.callbacks import EarlyStopping\n",
    "from tensorflow.keras.callbacks import TensorBoard\n",
    "\n",
    "model = lenet5()\n",
    "\n",
    "model.compile(optimizer='adam', loss= 'categorical_crossentropy', metrics=['accuracy'])\n",
    "\n",
    "# Define now our callbacks\n",
    "# callbacks = [EarlyStopping(monitor='val_loss', patience=10), TensorBoard(log_dir='./keras-logs', histogram_freq=0, write_graph=True, write_images=True)]\n",
    "callbacks = [EarlyStopping(monitor='val_loss', patience=10)]\n",
    "\n",
    "# Finally fit the model\n",
    "model.fit(x=X_train_norm, y=y_train_cat, validation_data=(X_test_norm, y_test_cat), epochs=100, batch_size=2048, callbacks=callbacks)"
   ]
  },
  {
   "cell_type": "markdown",
   "metadata": {
    "id": "Rf-SqjjOyO8q"
   },
   "source": [
    "Have a look at the tensorboard and see if it gives a deeper understanding of your model."
   ]
  },
  {
   "cell_type": "markdown",
   "metadata": {
    "id": "k2FTj7TSyO8q"
   },
   "source": [
    "Compute then the accuracy of your model. Is it better than a regular MLP used before?"
   ]
  },
  {
   "cell_type": "code",
   "execution_count": 19,
   "metadata": {
    "colab": {
     "base_uri": "https://localhost:8080/"
    },
    "id": "rPjJoMQZyO8q",
    "outputId": "32e34e8d-108f-4183-d095-d3e10344c49d"
   },
   "outputs": [
    {
     "name": "stdout",
     "output_type": "stream",
     "text": [
      "accuracy on train with NN: 0.8288333333333333\n",
      "accuracy on test with NN: 0.82\n"
     ]
    }
   ],
   "source": [
    "# TODO: Compute the accuracy of your model\n",
    "from sklearn.metrics import accuracy_score\n",
    "\n",
    "batch_size = 1024\n",
    "y_pred_train = to_categorical(model.predict(X_train).argmax(axis=1), num_classes=10)\n",
    "y_pred_test = to_categorical(model.predict(X_test).argmax(axis=1), num_classes=10)\n",
    "\n",
    "print('accuracy on train with NN:', accuracy_score(y_pred_train, y_train_cat))\n",
    "print('accuracy on test with NN:', accuracy_score(y_pred_test, y_test_cat))"
   ]
  },
  {
   "cell_type": "markdown",
   "metadata": {
    "id": "1vulsgHiyO8q"
   },
   "source": [
    "We will now add image augmentation to improve our results, especially we will try to reduce overfitting this way.\n",
    "\n",
    "To do so, you can use `ImageDataGenerator` from Keras that makes all the work for you (including rescaling), with the following parameter: \n",
    "* `horizontal_flip=True`\n",
    "\n",
    "For more info about how the `ImageDataGenerator` works, you can check out [this article](https://www.pyimagesearch.com/2019/07/08/keras-imagedatagenerator-and-data-augmentation/).\n",
    "\n",
    "Begin by creating an object `ImageDataGenerator` with this parameter."
   ]
  },
  {
   "cell_type": "code",
   "execution_count": 20,
   "metadata": {
    "ExecuteTime": {
     "end_time": "2020-08-19T11:58:37.442182Z",
     "start_time": "2020-08-19T11:58:37.438397Z"
    },
    "id": "pas-fMSIyO8q"
   },
   "outputs": [],
   "source": [
    "# TODO: Instantiate an ImageDataGenerator object\n",
    "from tensorflow.keras.preprocessing.image import ImageDataGenerator\n",
    "\n",
    "datagen = ImageDataGenerator(horizontal_flip=True)"
   ]
  },
  {
   "cell_type": "markdown",
   "metadata": {
    "id": "k7nCnu9syO8r"
   },
   "source": [
    "Finally, you can train your model using this generator, with the method `fit_generator` of your model and the method `flow` of your `ImageDataGenerator`."
   ]
  },
  {
   "cell_type": "code",
   "execution_count": 24,
   "metadata": {
    "colab": {
     "base_uri": "https://localhost:8080/"
    },
    "id": "Zt6wXa3IyO8r",
    "outputId": "4b908d1b-6d8f-4ea8-9710-b2f12aa9d3ce",
    "scrolled": true
   },
   "outputs": [
    {
     "name": "stdout",
     "output_type": "stream",
     "text": [
      "Epoch 1/100\n",
      " 3/58 [>.............................] - ETA: 1s - loss: 0.2566 - accuracy: 0.9043"
     ]
    },
    {
     "name": "stderr",
     "output_type": "stream",
     "text": [
      "/usr/local/lib/python3.7/dist-packages/ipykernel_launcher.py:5: UserWarning: `Model.fit_generator` is deprecated and will be removed in a future version. Please use `Model.fit`, which supports generators.\n",
      "  \"\"\"\n"
     ]
    },
    {
     "name": "stdout",
     "output_type": "stream",
     "text": [
      "58/58 [==============================] - 3s 54ms/step - loss: 0.2685 - accuracy: 0.9011 - val_loss: 3.3355 - val_accuracy: 0.7860\n",
      "Epoch 2/100\n",
      "58/58 [==============================] - 3s 53ms/step - loss: 0.2659 - accuracy: 0.9026 - val_loss: 3.5401 - val_accuracy: 0.7761\n",
      "Epoch 3/100\n",
      "58/58 [==============================] - 3s 52ms/step - loss: 0.2637 - accuracy: 0.9036 - val_loss: 3.3546 - val_accuracy: 0.7833\n",
      "Epoch 4/100\n",
      "58/58 [==============================] - 3s 45ms/step - loss: 0.2613 - accuracy: 0.9045 - val_loss: 3.5076 - val_accuracy: 0.7798\n",
      "Epoch 5/100\n",
      "58/58 [==============================] - 3s 53ms/step - loss: 0.2619 - accuracy: 0.9049 - val_loss: 3.4311 - val_accuracy: 0.7862\n",
      "Epoch 6/100\n",
      "58/58 [==============================] - 3s 46ms/step - loss: 0.2575 - accuracy: 0.9050 - val_loss: 3.8634 - val_accuracy: 0.7693\n",
      "Epoch 7/100\n",
      "58/58 [==============================] - 3s 46ms/step - loss: 0.2558 - accuracy: 0.9058 - val_loss: 2.9765 - val_accuracy: 0.8008\n",
      "Epoch 8/100\n",
      "58/58 [==============================] - 3s 47ms/step - loss: 0.2539 - accuracy: 0.9065 - val_loss: 3.5734 - val_accuracy: 0.7797\n",
      "Epoch 9/100\n",
      "58/58 [==============================] - 3s 46ms/step - loss: 0.2550 - accuracy: 0.9059 - val_loss: 3.3846 - val_accuracy: 0.7828\n",
      "Epoch 10/100\n",
      "58/58 [==============================] - 3s 46ms/step - loss: 0.2552 - accuracy: 0.9061 - val_loss: 3.3219 - val_accuracy: 0.7842\n",
      "Epoch 11/100\n",
      "58/58 [==============================] - 3s 46ms/step - loss: 0.2518 - accuracy: 0.9082 - val_loss: 3.2120 - val_accuracy: 0.7900\n",
      "Epoch 12/100\n",
      "58/58 [==============================] - 3s 52ms/step - loss: 0.2483 - accuracy: 0.9090 - val_loss: 4.0560 - val_accuracy: 0.7628\n",
      "Epoch 13/100\n",
      "58/58 [==============================] - 3s 45ms/step - loss: 0.2444 - accuracy: 0.9104 - val_loss: 3.8524 - val_accuracy: 0.7712\n",
      "Epoch 14/100\n",
      "58/58 [==============================] - 3s 45ms/step - loss: 0.2434 - accuracy: 0.9101 - val_loss: 3.9334 - val_accuracy: 0.7656\n",
      "Epoch 15/100\n",
      "58/58 [==============================] - 3s 53ms/step - loss: 0.2443 - accuracy: 0.9099 - val_loss: 3.0817 - val_accuracy: 0.7948\n",
      "Epoch 16/100\n",
      "58/58 [==============================] - 3s 53ms/step - loss: 0.2428 - accuracy: 0.9121 - val_loss: 4.0421 - val_accuracy: 0.7626\n",
      "Epoch 17/100\n",
      "58/58 [==============================] - 3s 46ms/step - loss: 0.2392 - accuracy: 0.9120 - val_loss: 3.6238 - val_accuracy: 0.7784\n"
     ]
    },
    {
     "data": {
      "text/plain": [
       "<keras.callbacks.History at 0x7f2d4c083f50>"
      ]
     },
     "execution_count": 24,
     "metadata": {},
     "output_type": "execute_result"
    }
   ],
   "source": [
    "# TODO: train your model\n",
    "# was crashing before doing 100 epochs\n",
    "batch_size = 1024\n",
    "model.fit_generator(datagen.flow(X_train_norm, y_train_cat, batch_size=batch_size),\n",
    "                    validation_data=(X_test_norm, y_test_cat), callbacks=callbacks,\n",
    "                    steps_per_epoch=len(X_train_norm) / batch_size, epochs=100)"
   ]
  },
  {
   "cell_type": "markdown",
   "metadata": {
    "id": "NuzFke8pyO8r"
   },
   "source": [
    "Recompute the accuracy of your model, does it improve your performances with data augmentation?"
   ]
  },
  {
   "cell_type": "code",
   "execution_count": 22,
   "metadata": {
    "colab": {
     "base_uri": "https://localhost:8080/"
    },
    "id": "jsTm86tuyO8r",
    "outputId": "f13ccde4-49cd-4116-b710-2dd5ff901849"
   },
   "outputs": [
    {
     "name": "stdout",
     "output_type": "stream",
     "text": [
      "accuracy on train with NN: 0.7742\n",
      "accuracy on test with NN: 0.7621\n"
     ]
    }
   ],
   "source": [
    "# TODO: Compute the accuracy of your model\n",
    "from sklearn.metrics import accuracy_score\n",
    "\n",
    "batch_size=1024\n",
    "y_pred_train = to_categorical(model.predict(X_train).argmax(axis=1), num_classes=10)\n",
    "y_pred_test = to_categorical(model.predict(X_test).argmax(axis=1), num_classes=10)\n",
    "\n",
    "print('accuracy on train with NN:', accuracy_score(y_pred_train, y_train_cat))\n",
    "print('accuracy on test with NN:', accuracy_score(y_pred_test, y_test_cat))"
   ]
  },
  {
   "cell_type": "markdown",
   "metadata": {
    "id": "jOzkdGf7yO8s"
   },
   "source": [
    "You can now try to improve even more your results. For example, add more parameters to your `ImageDataGenerator`, play with some hyperparameters, and so on..."
   ]
  }
 ],
 "metadata": {
  "accelerator": "GPU",
  "colab": {
   "name": "LeNet5.ipynb",
   "provenance": []
  },
  "kernelspec": {
   "display_name": "Python 3 (ipykernel)",
   "language": "python",
   "name": "python3"
  },
  "language_info": {
   "codemirror_mode": {
    "name": "ipython",
    "version": 3
   },
   "file_extension": ".py",
   "mimetype": "text/x-python",
   "name": "python",
   "nbconvert_exporter": "python",
   "pygments_lexer": "ipython3",
   "version": "3.9.7"
  },
  "toc": {
   "base_numbering": 1,
   "nav_menu": {},
   "number_sections": true,
   "sideBar": true,
   "skip_h1_title": false,
   "title_cell": "Table of Contents",
   "title_sidebar": "Contents",
   "toc_cell": false,
   "toc_position": {},
   "toc_section_display": true,
   "toc_window_display": false
  },
  "varInspector": {
   "cols": {
    "lenName": 16,
    "lenType": 16,
    "lenVar": 40
   },
   "kernels_config": {
    "python": {
     "delete_cmd_postfix": "",
     "delete_cmd_prefix": "del ",
     "library": "var_list.py",
     "varRefreshCmd": "print(var_dic_list())"
    },
    "r": {
     "delete_cmd_postfix": ") ",
     "delete_cmd_prefix": "rm(",
     "library": "var_list.r",
     "varRefreshCmd": "cat(var_dic_list()) "
    }
   },
   "types_to_exclude": [
    "module",
    "function",
    "builtin_function_or_method",
    "instance",
    "_Feature"
   ],
   "window_display": false
  }
 },
 "nbformat": 4,
 "nbformat_minor": 4
}
