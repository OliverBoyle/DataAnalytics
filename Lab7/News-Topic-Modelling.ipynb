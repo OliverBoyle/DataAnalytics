{
 "cells": [
  {
   "cell_type": "markdown",
   "metadata": {},
   "source": [
    "# Topic Modelling for News"
   ]
  },
  {
   "cell_type": "markdown",
   "metadata": {},
   "source": [
    "![](https://images.unsplash.com/photo-1495020689067-958852a7765e?ixlib=rb-1.2.1&ixid=eyJhcHBfaWQiOjEyMDd9&auto=format&fit=crop&w=1050&q=80)\n",
    "\n",
    "Photo by [Roman Kraft](https://unsplash.com/photos/_Zua2hyvTBk)"
   ]
  },
  {
   "cell_type": "markdown",
   "metadata": {},
   "source": [
    "This exercise is about modelling the main topics of a database of News headlines."
   ]
  },
  {
   "cell_type": "markdown",
   "metadata": {},
   "source": [
    "Begin by importing the needed libraries:"
   ]
  },
  {
   "cell_type": "code",
   "execution_count": 11,
   "metadata": {},
   "outputs": [],
   "source": [
    "# TODO: import needed libraries\n",
    "import numpy as np\n",
    "import pandas as pd\n",
    "import gensim"
   ]
  },
  {
   "cell_type": "markdown",
   "metadata": {},
   "source": [
    "Load the data in the file `random_headlines.csv`"
   ]
  },
  {
   "cell_type": "code",
   "execution_count": 12,
   "metadata": {
    "scrolled": true
   },
   "outputs": [
    {
     "name": "stdout",
     "output_type": "stream",
     "text": [
      "(20000, 2)\n"
     ]
    },
    {
     "data": {
      "text/html": [
       "<div>\n",
       "<style scoped>\n",
       "    .dataframe tbody tr th:only-of-type {\n",
       "        vertical-align: middle;\n",
       "    }\n",
       "\n",
       "    .dataframe tbody tr th {\n",
       "        vertical-align: top;\n",
       "    }\n",
       "\n",
       "    .dataframe thead th {\n",
       "        text-align: right;\n",
       "    }\n",
       "</style>\n",
       "<table border=\"1\" class=\"dataframe\">\n",
       "  <thead>\n",
       "    <tr style=\"text-align: right;\">\n",
       "      <th></th>\n",
       "      <th>publish_date</th>\n",
       "      <th>headline_text</th>\n",
       "    </tr>\n",
       "  </thead>\n",
       "  <tbody>\n",
       "    <tr>\n",
       "      <th>0</th>\n",
       "      <td>20120305</td>\n",
       "      <td>ute driver hurt in intersection crash</td>\n",
       "    </tr>\n",
       "    <tr>\n",
       "      <th>1</th>\n",
       "      <td>20081128</td>\n",
       "      <td>6yo dies in cycling accident</td>\n",
       "    </tr>\n",
       "    <tr>\n",
       "      <th>2</th>\n",
       "      <td>20090325</td>\n",
       "      <td>bumper olive harvest expected</td>\n",
       "    </tr>\n",
       "    <tr>\n",
       "      <th>3</th>\n",
       "      <td>20100201</td>\n",
       "      <td>replica replaces northernmost sign</td>\n",
       "    </tr>\n",
       "    <tr>\n",
       "      <th>4</th>\n",
       "      <td>20080225</td>\n",
       "      <td>woods targets perfect season</td>\n",
       "    </tr>\n",
       "  </tbody>\n",
       "</table>\n",
       "</div>"
      ],
      "text/plain": [
       "   publish_date                          headline_text\n",
       "0      20120305  ute driver hurt in intersection crash\n",
       "1      20081128           6yo dies in cycling accident\n",
       "2      20090325          bumper olive harvest expected\n",
       "3      20100201     replica replaces northernmost sign\n",
       "4      20080225           woods targets perfect season"
      ]
     },
     "execution_count": 12,
     "metadata": {},
     "output_type": "execute_result"
    }
   ],
   "source": [
    "# TODO: load the dataset\n",
    "df = pd.read_csv('random_headlines.csv')\n",
    "print(df.shape)\n",
    "df.head()"
   ]
  },
  {
   "cell_type": "markdown",
   "metadata": {},
   "source": [
    "This is always a good idea to perform some EDA (exploratory data analytics) on a dataset..."
   ]
  },
  {
   "cell_type": "code",
   "execution_count": 13,
   "metadata": {},
   "outputs": [
    {
     "name": "stdout",
     "output_type": "stream",
     "text": [
      "<class 'pandas.core.frame.DataFrame'>\n",
      "RangeIndex: 20000 entries, 0 to 19999\n",
      "Data columns (total 2 columns):\n",
      " #   Column         Non-Null Count  Dtype \n",
      "---  ------         --------------  ----- \n",
      " 0   publish_date   20000 non-null  int64 \n",
      " 1   headline_text  20000 non-null  object\n",
      "dtypes: int64(1), object(1)\n",
      "memory usage: 312.6+ KB\n"
     ]
    }
   ],
   "source": [
    "# TODO: Perform a short EDA\n",
    "df.info()"
   ]
  },
  {
   "cell_type": "markdown",
   "metadata": {},
   "source": [
    "Now perform all the needed preprocessing on those headlines: case lowering, tokenization, punctuation removal, stopwords removal, stemming/lemmatization."
   ]
  },
  {
   "cell_type": "code",
   "execution_count": 15,
   "metadata": {},
   "outputs": [
    {
     "data": {
      "text/plain": [
       "0    [ute, driver, hurt, intersect, crash]\n",
       "1                       [die, cycl, accid]\n",
       "2          [bumper, oliv, harvest, expect]\n",
       "3    [replica, replac, northernmost, sign]\n",
       "4          [wood, target, perfect, season]\n",
       "Name: stemmed, dtype: object"
      ]
     },
     "execution_count": 15,
     "metadata": {},
     "output_type": "execute_result"
    }
   ],
   "source": [
    "# TODO: Preprocess the input data\n",
    "\n",
    "from nltk.tokenize import word_tokenize\n",
    "\n",
    "df['tokenize'] = df['headline_text'].apply(lambda row: word_tokenize(row))\n",
    "df['tokenize']\n",
    "#punctuation removal\n",
    "\n",
    "df['alphanumeric'] = df['tokenize'].apply(lambda row: [ \n",
    "    word for word in row if word.isalpha()\n",
    "])\n",
    "\n",
    "# stopword removal\n",
    "from nltk.corpus import stopwords\n",
    "\n",
    "stop = stopwords.words('english')\n",
    "df['stop'] = df['alphanumeric'].apply(lambda row: [\n",
    "   word for word in row if word not in stop\n",
    "])\n",
    "\n",
    "# stemming\n",
    "from nltk.stem.porter import PorterStemmer\n",
    "\n",
    "stemmer = PorterStemmer()\n",
    "df['stemmed'] = df['stop'].apply(lambda row: [\n",
    "    stemmer.stem(word) for word in row\n",
    "])\n",
    "\n",
    "df['stemmed'].head()"
   ]
  },
  {
   "cell_type": "markdown",
   "metadata": {},
   "source": [
    "Now use Gensim to compute a BOW"
   ]
  },
  {
   "cell_type": "code",
   "execution_count": 18,
   "metadata": {},
   "outputs": [
    {
     "name": "stdout",
     "output_type": "stream",
     "text": [
      "(20000,)\n"
     ]
    },
    {
     "name": "stderr",
     "output_type": "stream",
     "text": [
      "C:\\Users\\Ollie\\anaconda3\\lib\\site-packages\\numpy\\core\\_asarray.py:102: VisibleDeprecationWarning: Creating an ndarray from ragged nested sequences (which is a list-or-tuple of lists-or-tuples-or ndarrays with different lengths or shapes) is deprecated. If you meant to do this, you must specify 'dtype=object' when creating the ndarray.\n",
      "  return array(a, dtype, copy=False, order=order)\n"
     ]
    },
    {
     "data": {
      "text/plain": [
       "[[(0, 1), (1, 1), (2, 1), (3, 1), (4, 1)], [(5, 1), (6, 1), (7, 1)]]"
      ]
     },
     "execution_count": 18,
     "metadata": {},
     "output_type": "execute_result"
    }
   ],
   "source": [
    "# TODO: Compute the BOW using Gensim\n",
    "from gensim.corpora import Dictionary\n",
    "\n",
    "dictionary = Dictionary(df['stemmed'])\n",
    "\n",
    "BOW = [dictionary.doc2bow(document) for document in df['stemmed']]\n",
    "\n",
    "print(np.shape(BOW))\n",
    "BOW[:2]\n"
   ]
  },
  {
   "cell_type": "markdown",
   "metadata": {},
   "source": [
    "Compute the TF-IDF using Gensim"
   ]
  },
  {
   "cell_type": "code",
   "execution_count": 20,
   "metadata": {},
   "outputs": [
    {
     "name": "stdout",
     "output_type": "stream",
     "text": [
      "(20000,)\n"
     ]
    },
    {
     "data": {
      "text/plain": [
       "<gensim.interfaces.TransformedCorpus at 0x1fc93900af0>"
      ]
     },
     "execution_count": 20,
     "metadata": {},
     "output_type": "execute_result"
    }
   ],
   "source": [
    "# TODO: Compute TF-IDF\n",
    "from gensim.models import TfidfModel\n",
    "\n",
    "tfidf_model = TfidfModel(BOW)\n",
    "tfidf = tfidf_model[BOW]\n",
    "\n",
    "print(np.shape(tfidf))\n",
    "tfidf"
   ]
  },
  {
   "cell_type": "markdown",
   "metadata": {},
   "source": [
    "Finally compute the **LSA** (also called LSI) using Gensim, for a given number of Topics that you choose yourself"
   ]
  },
  {
   "cell_type": "code",
   "execution_count": 24,
   "metadata": {},
   "outputs": [],
   "source": [
    "# TODO: Compute LSA\n",
    "from gensim.models import LsiModel\n",
    "\n",
    "lsi_model = LsiModel(BOW, id2word=dictionary, num_topics=4)"
   ]
  },
  {
   "cell_type": "markdown",
   "metadata": {},
   "source": [
    "For each of the topic, show the most significant words."
   ]
  },
  {
   "cell_type": "code",
   "execution_count": 25,
   "metadata": {},
   "outputs": [
    {
     "data": {
      "text/plain": [
       "[(0, '0.752*\"polic\" + 0.405*\"man\" + 0.208*\"charg\"'),\n",
       " (1, '-0.669*\"man\" + 0.575*\"polic\" + -0.328*\"charg\"'),\n",
       " (2, '-0.654*\"new\" + -0.296*\"plan\" + -0.242*\"say\"'),\n",
       " (3, '-0.702*\"new\" + 0.345*\"say\" + 0.335*\"plan\"')]"
      ]
     },
     "execution_count": 25,
     "metadata": {},
     "output_type": "execute_result"
    }
   ],
   "source": [
    "# TODO: Print the 3 or 4 most significant words of each topic\n",
    "lsi_model.print_topics(num_topics=4, num_words=3)"
   ]
  },
  {
   "cell_type": "markdown",
   "metadata": {},
   "source": [
    "The model outputs as predicte the common topicssuch as police charging are the same "
   ]
  },
  {
   "cell_type": "markdown",
   "metadata": {},
   "source": [
    "What do you think about those results?"
   ]
  },
  {
   "cell_type": "markdown",
   "metadata": {},
   "source": [
    "Now let's try to use LDA instead of LSA using Gensim"
   ]
  },
  {
   "cell_type": "code",
   "execution_count": 33,
   "metadata": {},
   "outputs": [],
   "source": [
    "# TODO: Compute LDA\n",
    "from gensim.models import LdaModel\n",
    "\n",
    "lda_model = LdaModel(BOW, id2word=dictionary, num_topics=4)"
   ]
  },
  {
   "cell_type": "code",
   "execution_count": 46,
   "metadata": {
    "scrolled": true
   },
   "outputs": [
    {
     "data": {
      "text/plain": [
       "[(0,\n",
       "  '0.008*\"say\" + 0.007*\"polic\" + 0.007*\"health\" + 0.006*\"council\" + 0.006*\"plan\" + 0.005*\"govt\"'),\n",
       " (1,\n",
       "  '0.011*\"interview\" + 0.008*\"charg\" + 0.006*\"market\" + 0.006*\"new\" + 0.005*\"man\" + 0.005*\"plan\"'),\n",
       " (2,\n",
       "  '0.009*\"win\" + 0.006*\"polic\" + 0.005*\"farmer\" + 0.005*\"australia\" + 0.004*\"new\" + 0.004*\"world\"'),\n",
       " (3,\n",
       "  '0.010*\"man\" + 0.009*\"kill\" + 0.008*\"polic\" + 0.006*\"fire\" + 0.006*\"home\" + 0.006*\"jail\"')]"
      ]
     },
     "execution_count": 46,
     "metadata": {},
     "output_type": "execute_result"
    }
   ],
   "source": [
    "# TODO: print the most frequent words of each topic\n",
    "\n",
    "lda_model.print_topics(num_topics=4, num_words=6)"
   ]
  },
  {
   "cell_type": "code",
   "execution_count": 39,
   "metadata": {},
   "outputs": [
    {
     "name": "stdout",
     "output_type": "stream",
     "text": [
      "Requirement already satisfied: pyLDAvis in c:\\users\\ollie\\anaconda3\\lib\\site-packages (3.3.1)\n",
      "Requirement already satisfied: joblib in c:\\users\\ollie\\anaconda3\\lib\\site-packages (from pyLDAvis) (1.1.0)\n",
      "Requirement already satisfied: setuptools in c:\\users\\ollie\\anaconda3\\lib\\site-packages (from pyLDAvis) (58.0.4)\n",
      "Requirement already satisfied: gensim in c:\\users\\ollie\\anaconda3\\lib\\site-packages (from pyLDAvis) (3.8.3)\n",
      "Requirement already satisfied: numpy>=1.20.0 in c:\\users\\ollie\\anaconda3\\lib\\site-packages (from pyLDAvis) (1.20.3)\n",
      "Requirement already satisfied: numexpr in c:\\users\\ollie\\anaconda3\\lib\\site-packages (from pyLDAvis) (2.7.3)\n",
      "Requirement already satisfied: scipy in c:\\users\\ollie\\anaconda3\\lib\\site-packages (from pyLDAvis) (1.7.1)\n",
      "Requirement already satisfied: jinja2 in c:\\users\\ollie\\anaconda3\\lib\\site-packages (from pyLDAvis) (2.11.3)\n",
      "Requirement already satisfied: future in c:\\users\\ollie\\anaconda3\\lib\\site-packages (from pyLDAvis) (0.18.2)\n",
      "Requirement already satisfied: funcy in c:\\users\\ollie\\anaconda3\\lib\\site-packages (from pyLDAvis) (1.17)\n",
      "Requirement already satisfied: pandas>=1.2.0 in c:\\users\\ollie\\anaconda3\\lib\\site-packages (from pyLDAvis) (1.3.4)\n",
      "Requirement already satisfied: sklearn in c:\\users\\ollie\\anaconda3\\lib\\site-packages (from pyLDAvis) (0.0)\n",
      "Requirement already satisfied: scikit-learn in c:\\users\\ollie\\anaconda3\\lib\\site-packages (from pyLDAvis) (0.24.2)\n",
      "Requirement already satisfied: python-dateutil>=2.7.3 in c:\\users\\ollie\\anaconda3\\lib\\site-packages (from pandas>=1.2.0->pyLDAvis) (2.8.2)\n",
      "Requirement already satisfied: pytz>=2017.3 in c:\\users\\ollie\\anaconda3\\lib\\site-packages (from pandas>=1.2.0->pyLDAvis) (2021.3)\n",
      "Requirement already satisfied: six>=1.5 in c:\\users\\ollie\\anaconda3\\lib\\site-packages (from python-dateutil>=2.7.3->pandas>=1.2.0->pyLDAvis) (1.16.0)\n",
      "Requirement already satisfied: smart-open>=1.8.1 in c:\\users\\ollie\\anaconda3\\lib\\site-packages (from gensim->pyLDAvis) (5.2.1)\n",
      "Requirement already satisfied: MarkupSafe>=0.23 in c:\\users\\ollie\\anaconda3\\lib\\site-packages (from jinja2->pyLDAvis) (1.1.1)\n",
      "Requirement already satisfied: threadpoolctl>=2.0.0 in c:\\users\\ollie\\anaconda3\\lib\\site-packages (from scikit-learn->pyLDAvis) (2.2.0)\n"
     ]
    }
   ],
   "source": [
    "#install plyLDAvis\n",
    "!pip install pyLDAvis"
   ]
  },
  {
   "cell_type": "markdown",
   "metadata": {},
   "source": [
    "Now, how does it work with LDA?"
   ]
  },
  {
   "cell_type": "markdown",
   "metadata": {},
   "source": [
    "Let's make some visualization of the LDA results using pyLDAvis."
   ]
  },
  {
   "cell_type": "code",
   "execution_count": 47,
   "metadata": {},
   "outputs": [
    {
     "name": "stderr",
     "output_type": "stream",
     "text": [
      "C:\\Users\\Ollie\\anaconda3\\lib\\site-packages\\pyLDAvis\\_prepare.py:246: FutureWarning: In a future version of pandas all arguments of DataFrame.drop except for the argument 'labels' will be keyword-only\n",
      "  default_term_info = default_term_info.sort_values(\n"
     ]
    },
    {
     "data": {
      "text/html": [
       "\n",
       "<link rel=\"stylesheet\" type=\"text/css\" href=\"https://cdn.jsdelivr.net/gh/bmabey/pyLDAvis@3.3.1/pyLDAvis/js/ldavis.v1.0.0.css\">\n",
       "\n",
       "\n",
       "<div id=\"ldavis_el1501221844498998728641886917\"></div>\n",
       "<script type=\"text/javascript\">\n",
       "\n",
       "var ldavis_el1501221844498998728641886917_data = {\"mdsDat\": {\"x\": [0.09599906597073803, -0.1841447256556747, 0.16076229097353903, -0.07261663128860224], \"y\": [-0.020006138176946034, -0.13905022250559484, -0.051995515625716165, 0.2110518763082571], \"topics\": [1, 2, 3, 4], \"cluster\": [1, 1, 1, 1], \"Freq\": [26.070850112679462, 25.95218896024437, 24.212653884183375, 23.764307042892792]}, \"tinfo\": {\"Term\": [\"interview\", \"win\", \"kill\", \"health\", \"jail\", \"home\", \"two\", \"found\", \"charg\", \"market\", \"second\", \"man\", \"abc\", \"worker\", \"countri\", \"nsw\", \"gold\", \"review\", \"farmer\", \"fund\", \"nation\", \"cup\", \"world\", \"hous\", \"injur\", \"report\", \"record\", \"fire\", \"council\", \"govt\", \"two\", \"ga\", \"celebr\", \"plane\", \"evid\", \"hobart\", \"shortag\", \"se\", \"health\", \"uni\", \"respons\", \"pacif\", \"harvest\", \"member\", \"form\", \"finish\", \"point\", \"quarter\", \"gp\", \"judg\", \"spring\", \"board\", \"accid\", \"peter\", \"tsunami\", \"peopl\", \"angri\", \"summit\", \"pilbara\", \"fourth\", \"women\", \"meet\", \"afghanistan\", \"drum\", \"inquiri\", \"educ\", \"cyclon\", \"eye\", \"one\", \"attempt\", \"wast\", \"mental\", \"state\", \"hunter\", \"nation\", \"bulldog\", \"green\", \"industri\", \"welcom\", \"cattl\", \"famili\", \"nt\", \"fine\", \"school\", \"nsw\", \"say\", \"indigen\", \"chief\", \"hear\", \"deni\", \"council\", \"group\", \"hous\", \"govt\", \"minist\", \"rule\", \"reject\", \"plan\", \"face\", \"murder\", \"polic\", \"call\", \"union\", \"charg\", \"new\", \"death\", \"mine\", \"urg\", \"report\", \"injur\", \"escap\", \"titl\", \"result\", \"suspend\", \"second\", \"vow\", \"level\", \"collaps\", \"figur\", \"sentenc\", \"theft\", \"brisban\", \"beach\", \"phone\", \"effort\", \"like\", \"ad\", \"hawk\", \"economi\", \"tasmania\", \"dollar\", \"coalit\", \"policeman\", \"music\", \"await\", \"mill\", \"jone\", \"holiday\", \"brother\", \"jail\", \"uk\", \"defenc\", \"home\", \"weather\", \"bail\", \"bid\", \"kill\", \"plead\", \"guilti\", \"flight\", \"issu\", \"fish\", \"station\", \"storm\", \"three\", \"clash\", \"caus\", \"train\", \"rescu\", \"begin\", \"fire\", \"man\", \"shoot\", \"aussi\", \"report\", \"car\", \"find\", \"hit\", \"polic\", \"miss\", \"death\", \"assault\", \"crash\", \"court\", \"us\", \"flood\", \"woman\", \"new\", \"sydney\", \"hous\", \"trial\", \"export\", \"aid\", \"control\", \"slam\", \"tourism\", \"stock\", \"doubt\", \"convict\", \"interview\", \"oil\", \"rape\", \"abc\", \"worri\", \"third\", \"indonesia\", \"low\", \"problem\", \"econom\", \"cross\", \"fiji\", \"gain\", \"ask\", \"criticis\", \"interest\", \"zealand\", \"terror\", \"japanes\", \"robberi\", \"product\", \"scam\", \"found\", \"shire\", \"decis\", \"worker\", \"alleg\", \"babi\", \"review\", \"turn\", \"share\", \"secur\", \"market\", \"mark\", \"contract\", \"un\", \"sport\", \"ban\", \"charg\", \"drought\", \"help\", \"fund\", \"ahead\", \"want\", \"rate\", \"fall\", \"futur\", \"govt\", \"plan\", \"new\", \"council\", \"man\", \"face\", \"call\", \"rise\", \"polic\", \"urg\", \"court\", \"australian\", \"back\", \"howard\", \"higher\", \"condit\", \"rain\", \"dairi\", \"major\", \"hour\", \"edg\", \"militari\", \"french\", \"podcast\", \"spot\", \"revamp\", \"countri\", \"tough\", \"seeker\", \"israel\", \"russia\", \"kangaroo\", \"cat\", \"cup\", \"southern\", \"grand\", \"survivor\", \"king\", \"john\", \"wallabi\", \"option\", \"focu\", \"climat\", \"gold\", \"asylum\", \"better\", \"confid\", \"life\", \"track\", \"dam\", \"win\", \"defend\", \"star\", \"push\", \"safeti\", \"bush\", \"record\", \"world\", \"good\", \"leagu\", \"farmer\", \"dog\", \"look\", \"coast\", \"darwin\", \"china\", \"australia\", \"beat\", \"final\", \"chang\", \"sa\", \"die\", \"wa\", \"warn\", \"polic\", \"australian\", \"crash\", \"new\", \"say\", \"sex\", \"set\", \"us\", \"back\"], \"Freq\": [283.0, 261.0, 265.0, 177.0, 160.0, 165.0, 141.0, 131.0, 342.0, 175.0, 125.0, 472.0, 111.0, 114.0, 103.0, 183.0, 107.0, 112.0, 159.0, 195.0, 142.0, 93.0, 122.0, 197.0, 94.0, 224.0, 116.0, 252.0, 327.0, 309.0, 139.7343832096714, 60.887804451321884, 48.24600221749802, 47.3713231784881, 39.20834443706933, 39.26022565891691, 42.607573321517826, 36.58286254228557, 173.97322462337587, 33.92754162763832, 50.104179461352054, 31.913194495309572, 31.802746840756956, 31.249667856800812, 33.64720492343823, 30.624284596495922, 30.06608972924272, 29.018548013958014, 28.068357541085067, 27.62863444966051, 27.507923891062184, 29.923402357308643, 63.007200004096674, 25.636589517036683, 25.498334561337156, 50.36853642539358, 25.17972681538166, 25.43729581497548, 24.585893577905402, 25.238378876078578, 71.73286674703381, 92.74413261878351, 28.95969823044347, 39.25563911229697, 66.75690270246298, 51.81961017211398, 40.27608813094887, 35.35978344363406, 90.18181927205052, 41.8444815677889, 48.03254564557883, 47.32602130016254, 86.66315646451909, 63.93189513160363, 122.71293338051767, 38.16858397093821, 93.1948783680727, 82.70752311628411, 87.50766642667863, 52.63921328674267, 78.78666407399042, 95.73267408541979, 55.834949583782375, 101.76613448855024, 132.2964680523486, 219.4431580026864, 79.26051381236309, 69.75157201957315, 61.93455216159092, 68.42419491305904, 166.39426926530834, 99.50135194678809, 113.38666878874525, 146.72974799496484, 86.20460144236988, 63.33368863905086, 78.54428392328464, 150.8752512955358, 117.96802168176235, 103.69610846829202, 177.22393720495168, 117.84311068094387, 75.95145587398855, 115.50775199139649, 128.51503629080696, 93.6965027132681, 91.9524629119807, 84.50122715286554, 81.01079978644046, 93.2856226917131, 57.06158270220378, 53.99361296153122, 44.48062671955714, 48.793161802492186, 123.74110318771626, 42.425854695543904, 41.88281260782139, 40.44264251307799, 40.61341038721531, 74.92462639721701, 44.26594099576919, 84.23943834070408, 35.63462209075762, 37.24975998103551, 36.19080326837137, 35.48402313804571, 34.81542974691799, 32.7125771467328, 32.19005733175619, 49.443281738618296, 42.433045704873386, 29.17087796946958, 28.43668211607526, 28.782591361834335, 30.67865904977506, 27.532669957450583, 27.709404509587582, 27.881836854418836, 26.320154199872093, 156.07501790093798, 45.35768189191521, 57.86210941751661, 157.54999310075067, 87.65581248339014, 66.48329271886121, 73.40347995819225, 243.81464283789242, 55.698303714545084, 88.26039659276648, 47.411505446594475, 57.67667436400554, 50.98628326677331, 62.265449590674315, 60.97261769786066, 88.57967740699556, 58.10900900335685, 53.3433535446207, 78.55906169867369, 71.03999356426209, 75.98724680515161, 171.6672710317657, 273.8491827248439, 69.02502315697295, 77.4471890759781, 135.25725666304558, 100.73597329300631, 79.45850818628874, 116.88580240929186, 204.5094413250785, 100.98605304073106, 105.12901048555574, 72.08966395625765, 100.98954315991425, 108.30796973574131, 100.53637319094535, 81.47845030864879, 78.65664865459156, 98.4492261270845, 81.26585679662696, 82.18276007930393, 75.9152127289373, 63.32293458717951, 61.215664375471, 67.46291249376702, 56.61299632411461, 53.04650550108767, 48.42500017721239, 56.44619074329863, 46.386702607021896, 278.6061408007181, 42.19304975182778, 40.11234084624241, 109.6248405497323, 39.66642032740801, 37.586101816632286, 37.2297349753179, 36.125608807415745, 35.81901296661147, 34.74859377575572, 35.91169847804888, 33.710438547057386, 32.11919797836938, 30.044428857517474, 30.13569738038654, 38.692515408937645, 30.526979976750546, 40.657754205269136, 28.834523047080943, 27.592902719033905, 27.32214512175538, 27.291023425892863, 126.62976755732106, 59.4969150783249, 76.27394405510776, 109.98755492147022, 88.0594023466024, 45.66148785773798, 106.44064167519382, 48.89591463930452, 86.15531672834233, 85.13318214590662, 148.30773778728556, 40.0157456030817, 40.80862589422465, 58.03865454905687, 52.07631945465589, 93.78093035515842, 192.76811962277782, 68.40940880478665, 102.99572847133172, 118.71862205854129, 66.16938700691713, 81.59496169072506, 86.87952512656136, 79.92631595263062, 70.65292969687597, 132.23149930376962, 133.03832681096395, 146.98518427747823, 117.24370468406157, 133.56106256927018, 100.55093158264113, 106.45942689507143, 79.8340555377637, 115.79317108021118, 86.007325285538, 79.59895110795303, 74.06659974871256, 72.28310853305967, 47.623070524334196, 49.26311686657251, 44.5650210312343, 76.26302626160897, 44.993366393185866, 37.75914688051469, 77.73774931144376, 35.836460377169935, 35.40656248395644, 36.058597231310195, 34.105041751722815, 35.050524775439705, 34.24022550213291, 100.89685530734413, 42.41780217761571, 33.23340188310931, 31.447653178291425, 31.520971254266012, 30.59751317130333, 29.732120325189832, 91.39110658600886, 28.50276533311298, 28.554030085677745, 28.525880167842658, 27.640960054668724, 43.77999935101475, 43.13575564262624, 27.736589736219198, 27.17914302695499, 46.285188771997184, 103.4125576639649, 47.56667134936938, 39.63465857196824, 48.17894483447755, 51.275946684138106, 52.52123002254391, 37.13141620116072, 226.88677102821094, 80.26717752031809, 62.26437127541038, 89.39014071848871, 77.88401081233889, 52.46078064262339, 100.85305519320507, 104.92962195944034, 46.09148282398257, 46.562424875475266, 121.15540716613056, 59.1604156751251, 69.05909955727152, 102.50810460719941, 54.999427538040194, 68.9063213986481, 111.395588264827, 49.93798262209983, 79.86140772263958, 97.17384560552519, 86.38728413749016, 74.8365139905952, 85.64586673108593, 87.19123988726787, 137.40259289515154, 82.90552133183442, 82.86684144876762, 107.88805968440752, 99.53403371552164, 64.40738098120184, 75.4926755760748, 78.11614687605093, 74.67511318119712], \"Total\": [283.0, 261.0, 265.0, 177.0, 160.0, 165.0, 141.0, 131.0, 342.0, 175.0, 125.0, 472.0, 111.0, 114.0, 103.0, 183.0, 107.0, 112.0, 159.0, 195.0, 142.0, 93.0, 122.0, 197.0, 94.0, 224.0, 116.0, 252.0, 327.0, 309.0, 141.33916135519948, 61.7178500609891, 48.961750552051164, 48.08914303692416, 39.91569832497111, 39.98342463742009, 43.45072913390618, 37.313876407942175, 177.6121514068832, 34.64185039185499, 51.16979901777952, 32.61922247962538, 32.5096156767805, 31.96286420122109, 34.41774546145818, 31.340319127132055, 30.778316353999646, 29.74113958734155, 28.770879522065425, 28.330503798662615, 28.216931937873913, 30.7252433612076, 64.72452996218708, 26.34620128220418, 26.205120413242838, 51.7715199991995, 25.888016802883296, 26.16793501393172, 25.295581780318365, 25.96845401776741, 73.87993297946069, 95.92000079653099, 29.80810253044517, 40.53555983612786, 69.45734490861858, 53.76993201528199, 41.64182113007729, 36.505300962103014, 96.0992465523365, 43.580122570148184, 50.448225759563854, 49.8850615552503, 95.45374715274868, 68.88760716140526, 142.52686592509764, 39.76059730362489, 109.45099956571461, 97.15802335982322, 104.25816557772396, 58.074978582498865, 93.3696232835392, 118.36847328074288, 62.402620123566514, 129.9753420668198, 183.73456590536608, 383.3657092982603, 100.45764742020822, 85.74946862761587, 72.87956740894714, 84.8654391016142, 327.42464096382406, 157.1908256395618, 197.46276676543877, 309.7015776943827, 129.27178978956388, 76.65684466922708, 112.66838470953219, 365.3586870567639, 246.1325773989912, 202.62754972043803, 634.929142505393, 312.7263853931012, 107.50904714034625, 342.24433036332584, 481.8375063797772, 208.6409621136743, 196.83022471276556, 216.62264470639906, 224.2236106039417, 94.40045812759695, 57.7584964008107, 54.71106838168893, 45.20527350388169, 49.588454918552614, 125.84863342986183, 43.15664158550319, 42.60681952311488, 41.14289011223821, 41.36061753405473, 76.33251175637416, 45.11305196602752, 85.86394183234223, 36.33151947132396, 37.98483446582122, 36.911969970814184, 36.195761251580336, 35.54037400352185, 33.425021241923076, 32.898456394975305, 50.57273443013065, 43.44104492676733, 29.877198804464204, 29.138528686475347, 29.495511517399024, 31.442685034584958, 28.234024657303923, 28.418265551900717, 28.60194216496638, 27.014337789106513, 160.7382027337115, 46.62216095920976, 59.781469541897565, 165.70909986443263, 91.22596720465094, 68.86622056547557, 76.58291897984152, 265.22872579867106, 57.9121553644147, 93.6071141675829, 49.12019620168915, 60.94546539013569, 53.4306809019852, 67.08650979898763, 65.63036572608934, 102.31884993049567, 62.73395158535139, 56.85467565271816, 92.86927184631699, 81.97975065989743, 89.32751945509875, 252.1966340815947, 472.51815040214404, 80.02077551179009, 97.33121878779689, 224.2236106039417, 154.34403709980492, 106.7672245073285, 203.08676998425804, 634.929142505393, 186.97801726064367, 208.6409621136743, 96.40276182625355, 216.65528803369358, 291.33456753410314, 263.2428179976526, 151.9478771161943, 147.15257895116412, 481.8375063797772, 177.98055144390977, 197.46276676543877, 141.432525153954, 64.03654703507593, 61.927970386477554, 68.25418533398407, 57.34840756201417, 53.750268118066124, 49.13001497230915, 57.29116463002477, 47.10493200023991, 283.0162329978878, 42.90074890673633, 40.820080082557496, 111.56886173571849, 40.38504895862933, 38.30029391851919, 37.937224918229894, 36.841827423598296, 36.55665378738026, 35.472183348564556, 36.660754355753916, 34.43875927585057, 32.818842335395, 30.742662888532617, 30.84115703452644, 39.604794451227974, 31.248435713360134, 41.61967144875891, 29.554428987666693, 28.293855602251302, 28.021235450239587, 28.007711155123157, 131.09003740617575, 61.36229932224601, 78.86859987337209, 114.1730544851278, 91.44838816661115, 47.04342358781542, 112.88581877274515, 50.818330827075485, 92.53321862235444, 91.57321159245275, 175.23190559873672, 41.733058667439764, 42.92935340464784, 67.39145048124888, 58.770465141832936, 127.7616044283588, 342.24433036332584, 87.00468205247726, 158.44274617286584, 195.07342319356275, 84.87221878645929, 117.82623306673474, 133.23401334934692, 119.95644704542713, 98.04021284045564, 309.7015776943827, 365.3586870567639, 481.8375063797772, 327.42464096382406, 472.51815040214404, 246.1325773989912, 312.7263853931012, 155.28312039493713, 634.929142505393, 216.62264470639906, 291.33456753410314, 201.97542794454677, 229.55142375260056, 48.335357016344936, 50.00523590103444, 45.27304703249073, 77.6589894063168, 45.82590832163371, 38.4693819549458, 79.26709446030772, 36.54899645875545, 36.111256549552905, 36.783070830082245, 34.79246251569489, 35.76412620463685, 34.95330457660091, 103.02031834638139, 43.34743772002352, 33.98534721709416, 32.164037948189, 32.24039822315815, 31.30236561125809, 30.437196886522468, 93.59952300697132, 29.198368763460348, 29.256189681613005, 29.229618726075692, 28.34954468269013, 44.921252113584586, 44.26187551907867, 28.461841078640003, 27.893867607477596, 47.513697975905224, 107.1033940180772, 48.98610909833029, 40.83472043659893, 49.978158894868585, 53.37614227809866, 54.76964679646413, 38.33872683167649, 261.0400954398419, 87.38203251988358, 66.72444488240973, 98.98256791202017, 85.3820492479734, 55.617862910719936, 116.78793898471537, 122.76950273154057, 48.82021258616321, 49.77287587472484, 159.8258101258092, 67.87292756858704, 83.26953139683238, 142.63994859714012, 63.054538918709625, 91.36826302645987, 208.2666888114508, 55.99847668936795, 132.28797768764707, 190.60268185972154, 153.77984514316785, 138.74416470340316, 189.1265146616301, 208.17671530209043, 634.929142505393, 201.97542794454677, 216.65528803369358, 481.8375063797772, 383.3657092982603, 105.84934945631491, 195.85133319475275, 263.2428179976526, 229.55142375260056], \"Category\": [\"Default\", \"Default\", \"Default\", \"Default\", \"Default\", \"Default\", \"Default\", \"Default\", \"Default\", \"Default\", \"Default\", \"Default\", \"Default\", \"Default\", \"Default\", \"Default\", \"Default\", \"Default\", \"Default\", \"Default\", \"Default\", \"Default\", \"Default\", \"Default\", \"Default\", \"Default\", \"Default\", \"Default\", \"Default\", \"Default\", \"Topic1\", \"Topic1\", \"Topic1\", \"Topic1\", \"Topic1\", \"Topic1\", \"Topic1\", \"Topic1\", \"Topic1\", \"Topic1\", \"Topic1\", \"Topic1\", \"Topic1\", \"Topic1\", \"Topic1\", \"Topic1\", \"Topic1\", \"Topic1\", \"Topic1\", \"Topic1\", \"Topic1\", \"Topic1\", \"Topic1\", \"Topic1\", \"Topic1\", \"Topic1\", \"Topic1\", \"Topic1\", \"Topic1\", \"Topic1\", \"Topic1\", \"Topic1\", \"Topic1\", \"Topic1\", \"Topic1\", \"Topic1\", \"Topic1\", \"Topic1\", \"Topic1\", \"Topic1\", \"Topic1\", \"Topic1\", \"Topic1\", \"Topic1\", \"Topic1\", \"Topic1\", \"Topic1\", \"Topic1\", \"Topic1\", \"Topic1\", \"Topic1\", \"Topic1\", \"Topic1\", \"Topic1\", \"Topic1\", \"Topic1\", \"Topic1\", \"Topic1\", \"Topic1\", \"Topic1\", \"Topic1\", \"Topic1\", \"Topic1\", \"Topic1\", \"Topic1\", \"Topic1\", \"Topic1\", \"Topic1\", \"Topic1\", \"Topic1\", \"Topic1\", \"Topic1\", \"Topic1\", \"Topic1\", \"Topic1\", \"Topic1\", \"Topic1\", \"Topic1\", \"Topic1\", \"Topic2\", \"Topic2\", \"Topic2\", \"Topic2\", \"Topic2\", \"Topic2\", \"Topic2\", \"Topic2\", \"Topic2\", \"Topic2\", \"Topic2\", \"Topic2\", \"Topic2\", \"Topic2\", \"Topic2\", \"Topic2\", \"Topic2\", \"Topic2\", \"Topic2\", \"Topic2\", \"Topic2\", \"Topic2\", \"Topic2\", \"Topic2\", \"Topic2\", \"Topic2\", \"Topic2\", \"Topic2\", \"Topic2\", \"Topic2\", \"Topic2\", \"Topic2\", \"Topic2\", \"Topic2\", \"Topic2\", \"Topic2\", \"Topic2\", \"Topic2\", \"Topic2\", \"Topic2\", \"Topic2\", \"Topic2\", \"Topic2\", \"Topic2\", \"Topic2\", \"Topic2\", \"Topic2\", \"Topic2\", \"Topic2\", \"Topic2\", \"Topic2\", \"Topic2\", \"Topic2\", \"Topic2\", \"Topic2\", \"Topic2\", \"Topic2\", \"Topic2\", \"Topic2\", \"Topic2\", \"Topic2\", \"Topic2\", \"Topic2\", \"Topic2\", \"Topic2\", \"Topic2\", \"Topic2\", \"Topic2\", \"Topic2\", \"Topic2\", \"Topic2\", \"Topic2\", \"Topic3\", \"Topic3\", \"Topic3\", \"Topic3\", \"Topic3\", \"Topic3\", \"Topic3\", \"Topic3\", \"Topic3\", \"Topic3\", \"Topic3\", \"Topic3\", \"Topic3\", \"Topic3\", \"Topic3\", \"Topic3\", \"Topic3\", \"Topic3\", \"Topic3\", \"Topic3\", \"Topic3\", \"Topic3\", \"Topic3\", \"Topic3\", \"Topic3\", \"Topic3\", \"Topic3\", \"Topic3\", \"Topic3\", \"Topic3\", \"Topic3\", \"Topic3\", \"Topic3\", \"Topic3\", \"Topic3\", \"Topic3\", \"Topic3\", \"Topic3\", \"Topic3\", \"Topic3\", \"Topic3\", \"Topic3\", \"Topic3\", \"Topic3\", \"Topic3\", \"Topic3\", \"Topic3\", \"Topic3\", \"Topic3\", \"Topic3\", \"Topic3\", \"Topic3\", \"Topic3\", \"Topic3\", \"Topic3\", \"Topic3\", \"Topic3\", \"Topic3\", \"Topic3\", \"Topic3\", \"Topic3\", \"Topic3\", \"Topic3\", \"Topic3\", \"Topic3\", \"Topic3\", \"Topic3\", \"Topic3\", \"Topic4\", \"Topic4\", \"Topic4\", \"Topic4\", \"Topic4\", \"Topic4\", \"Topic4\", \"Topic4\", \"Topic4\", \"Topic4\", \"Topic4\", \"Topic4\", \"Topic4\", \"Topic4\", \"Topic4\", \"Topic4\", \"Topic4\", \"Topic4\", \"Topic4\", \"Topic4\", \"Topic4\", \"Topic4\", \"Topic4\", \"Topic4\", \"Topic4\", \"Topic4\", \"Topic4\", \"Topic4\", \"Topic4\", \"Topic4\", \"Topic4\", \"Topic4\", \"Topic4\", \"Topic4\", \"Topic4\", \"Topic4\", \"Topic4\", \"Topic4\", \"Topic4\", \"Topic4\", \"Topic4\", \"Topic4\", \"Topic4\", \"Topic4\", \"Topic4\", \"Topic4\", \"Topic4\", \"Topic4\", \"Topic4\", \"Topic4\", \"Topic4\", \"Topic4\", \"Topic4\", \"Topic4\", \"Topic4\", \"Topic4\", \"Topic4\", \"Topic4\", \"Topic4\", \"Topic4\", \"Topic4\", \"Topic4\", \"Topic4\", \"Topic4\", \"Topic4\", \"Topic4\", \"Topic4\", \"Topic4\", \"Topic4\", \"Topic4\"], \"logprob\": [30.0, 29.0, 28.0, 27.0, 26.0, 25.0, 24.0, 23.0, 22.0, 21.0, 20.0, 19.0, 18.0, 17.0, 16.0, 15.0, 14.0, 13.0, 12.0, 11.0, 10.0, 9.0, 8.0, 7.0, 6.0, 5.0, 4.0, 3.0, 2.0, 1.0, -5.2544, -6.0851, -6.3179, -6.3362, -6.5253, -6.524, -6.4421, -6.5946, -5.0353, -6.6699, -6.2801, -6.7312, -6.7346, -6.7522, -6.6782, -6.7724, -6.7908, -6.8262, -6.8595, -6.8753, -6.8797, -6.7955, -6.0509, -6.9502, -6.9556, -6.2748, -6.9681, -6.958, -6.992, -6.9658, -5.9212, -5.6643, -6.8283, -6.5241, -5.9931, -6.2464, -6.4984, -6.6286, -5.6923, -6.4602, -6.3223, -6.3371, -5.7321, -6.0364, -5.3843, -6.5522, -5.6595, -5.7789, -5.7224, -6.2307, -5.8274, -5.6326, -6.1718, -5.5715, -5.3091, -4.8031, -5.8214, -5.9492, -6.0681, -5.9684, -5.0798, -5.594, -5.4634, -5.2056, -5.7374, -6.0458, -5.8305, -5.1777, -5.4238, -5.5527, -5.0168, -5.4248, -5.8641, -5.4448, -5.3381, -5.6541, -5.6729, -5.7574, -5.7996, -5.6539, -6.1455, -6.2007, -6.3946, -6.302, -5.3714, -6.4419, -6.4547, -6.4897, -6.4855, -5.8731, -6.3994, -5.7559, -6.6163, -6.572, -6.6008, -6.6205, -6.6396, -6.7019, -6.718, -6.2888, -6.4417, -6.8164, -6.8419, -6.8298, -6.766, -6.8742, -6.8678, -6.8616, -6.9193, -5.1393, -6.375, -6.1315, -5.1299, -5.7162, -5.9927, -5.8936, -4.6932, -6.1697, -5.7093, -6.3307, -6.1348, -6.2581, -6.0582, -6.0792, -5.7057, -6.1273, -6.2129, -5.8258, -5.9264, -5.859, -5.0441, -4.577, -5.9551, -5.84, -5.2824, -5.5771, -5.8144, -5.4284, -4.869, -5.5746, -5.5344, -5.9117, -5.5746, -5.5046, -5.5791, -5.7893, -5.8245, -5.6001, -5.7919, -5.7807, -5.86, -5.972, -6.0058, -5.9087, -6.084, -6.1491, -6.2402, -6.0869, -6.2832, -4.4904, -6.378, -6.4285, -5.4232, -6.4397, -6.4936, -6.5031, -6.5332, -6.5418, -6.5721, -6.5392, -6.6024, -6.6508, -6.7176, -6.7145, -6.4646, -6.7016, -6.415, -6.7587, -6.8027, -6.8125, -6.8137, -5.279, -6.0343, -5.7859, -5.4199, -5.6422, -6.299, -5.4526, -6.2305, -5.6641, -5.676, -5.1209, -6.431, -6.4113, -6.0591, -6.1675, -5.5793, -4.8587, -5.8947, -5.4855, -5.3435, -5.928, -5.7185, -5.6557, -5.7391, -5.8625, -5.2357, -5.2296, -5.1299, -5.356, -5.2257, -5.5096, -5.4525, -5.7403, -5.3684, -5.6658, -5.7432, -5.8153, -5.8396, -6.2382, -6.2044, -6.3046, -5.7674, -6.295, -6.4703, -5.7482, -6.5226, -6.5346, -6.5164, -6.5721, -6.5447, -6.5681, -5.4874, -6.354, -6.598, -6.6532, -6.6509, -6.6806, -6.7093, -5.5864, -6.7515, -6.7497, -6.7507, -6.7822, -6.3224, -6.3372, -6.7788, -6.7991, -6.2667, -5.4628, -6.2394, -6.4218, -6.2266, -6.1643, -6.1403, -6.4871, -4.6771, -5.7162, -5.9702, -5.6085, -5.7463, -6.1415, -5.4879, -5.4482, -6.2709, -6.2607, -5.3045, -6.0213, -5.8666, -5.4716, -6.0942, -5.8688, -5.3885, -6.1908, -5.7212, -5.525, -5.6427, -5.7862, -5.6513, -5.6334, -5.1786, -5.6838, -5.6843, -5.4204, -5.501, -5.9363, -5.7775, -5.7433, -5.7884], \"loglift\": [30.0, 29.0, 28.0, 27.0, 26.0, 25.0, 24.0, 23.0, 22.0, 21.0, 20.0, 19.0, 18.0, 17.0, 16.0, 15.0, 14.0, 13.0, 12.0, 11.0, 10.0, 9.0, 8.0, 7.0, 6.0, 5.0, 4.0, 3.0, 2.0, 1.0, 1.3329, 1.3308, 1.3296, 1.3293, 1.3265, 1.3261, 1.3248, 1.3246, 1.3237, 1.3235, 1.3233, 1.3225, 1.3224, 1.3218, 1.3217, 1.3212, 1.3209, 1.3198, 1.3196, 1.3193, 1.3189, 1.3179, 1.3175, 1.317, 1.317, 1.3169, 1.3166, 1.316, 1.3159, 1.3158, 1.3149, 1.3107, 1.3155, 1.3123, 1.3047, 1.3074, 1.311, 1.3125, 1.2808, 1.3037, 1.2953, 1.2917, 1.2477, 1.2697, 1.1947, 1.3035, 1.1836, 1.1833, 1.1692, 1.2461, 1.1745, 1.1321, 1.2331, 1.0997, 1.0159, 0.7865, 1.1074, 1.1379, 1.1816, 1.129, 0.6675, 0.8871, 0.7896, 0.5973, 0.9392, 1.1534, 0.9836, 0.4599, 0.6089, 0.6744, 0.0683, 0.3684, 0.9969, 0.2582, 0.0228, 0.5438, 0.5833, 0.403, 0.3263, 1.337, 1.3368, 1.3357, 1.3328, 1.3327, 1.332, 1.3318, 1.3318, 1.3317, 1.3307, 1.3303, 1.33, 1.3298, 1.3295, 1.3294, 1.3292, 1.3291, 1.3283, 1.3274, 1.3271, 1.3263, 1.3254, 1.325, 1.3245, 1.3244, 1.3243, 1.3238, 1.3237, 1.3234, 1.3229, 1.3195, 1.3214, 1.3163, 1.2984, 1.309, 1.3137, 1.3065, 1.2647, 1.3099, 1.2901, 1.3135, 1.2938, 1.3021, 1.2743, 1.2753, 1.2047, 1.2723, 1.2852, 1.1816, 1.2057, 1.1872, 0.9643, 0.8034, 1.2011, 1.1204, 0.8434, 0.9222, 1.0535, 0.7965, 0.216, 0.7329, 0.6635, 1.0583, 0.5856, 0.3594, 0.3864, 0.7257, 0.7225, -0.2392, 0.565, 0.4723, 0.7267, 1.4071, 1.4067, 1.4066, 1.4054, 1.4051, 1.4038, 1.4034, 1.4029, 1.4026, 1.4017, 1.4008, 1.4007, 1.4003, 1.3995, 1.3995, 1.3987, 1.3979, 1.3977, 1.3977, 1.3969, 1.3967, 1.3953, 1.3952, 1.395, 1.3949, 1.3949, 1.3936, 1.3932, 1.393, 1.3924, 1.3837, 1.3874, 1.3848, 1.3809, 1.3805, 1.3885, 1.3595, 1.3797, 1.3469, 1.3454, 1.2515, 1.3763, 1.3676, 1.2689, 1.2974, 1.1091, 0.8443, 1.1778, 0.9876, 0.9217, 1.1694, 1.0509, 0.9907, 1.0123, 1.0907, 0.5672, 0.4081, 0.231, 0.3913, 0.1548, 0.5231, 0.3407, 0.753, -0.2834, 0.4946, 0.1208, 0.4151, 0.2628, 1.4221, 1.422, 1.4212, 1.4188, 1.4187, 1.4184, 1.4175, 1.4173, 1.4173, 1.4171, 1.417, 1.4168, 1.4164, 1.4162, 1.4153, 1.4146, 1.4145, 1.4144, 1.4142, 1.4135, 1.4131, 1.4129, 1.4127, 1.4126, 1.4117, 1.4113, 1.4112, 1.4112, 1.411, 1.4108, 1.4019, 1.4076, 1.4072, 1.4003, 1.3968, 1.3951, 1.405, 1.2968, 1.3521, 1.3678, 1.3351, 1.3451, 1.3785, 1.2903, 1.28, 1.3795, 1.3703, 1.16, 1.2996, 1.2499, 1.1066, 1.3003, 1.1548, 0.8113, 1.3224, 0.9323, 0.7633, 0.8603, 0.8197, 0.6448, 0.5667, -0.0936, 0.5465, 0.4759, -0.0595, 0.0885, 0.9402, 0.4837, 0.2221, 0.314]}, \"token.table\": {\"Topic\": [2, 3, 4, 1, 3, 4, 2, 1, 1, 2, 3, 4, 3, 1, 3, 4, 1, 3, 1, 2, 3, 4, 3, 4, 1, 2, 1, 2, 3, 4, 1, 2, 3, 4, 1, 2, 3, 4, 2, 3, 4, 1, 2, 3, 4, 1, 2, 4, 2, 3, 4, 2, 2, 4, 1, 2, 3, 4, 2, 4, 1, 2, 3, 4, 1, 2, 3, 2, 1, 2, 2, 4, 1, 2, 3, 4, 1, 2, 3, 4, 4, 1, 2, 4, 1, 2, 3, 4, 1, 1, 3, 4, 1, 3, 4, 1, 2, 1, 2, 4, 1, 2, 3, 4, 2, 1, 2, 3, 4, 2, 4, 1, 4, 1, 3, 3, 3, 1, 2, 3, 4, 1, 4, 1, 2, 3, 4, 1, 2, 3, 4, 3, 3, 1, 3, 4, 1, 2, 4, 2, 4, 1, 2, 4, 1, 2, 3, 4, 2, 3, 4, 2, 4, 3, 4, 1, 3, 1, 2, 3, 4, 1, 3, 4, 2, 3, 2, 3, 4, 1, 3, 3, 2, 4, 1, 2, 2, 2, 1, 3, 1, 2, 1, 2, 3, 4, 1, 3, 4, 1, 2, 3, 1, 2, 3, 4, 2, 3, 1, 2, 4, 1, 2, 3, 1, 4, 1, 1, 2, 3, 4, 1, 2, 3, 2, 3, 2, 3, 4, 4, 1, 1, 3, 1, 4, 1, 2, 3, 4, 1, 2, 3, 4, 1, 3, 1, 2, 3, 4, 3, 4, 1, 2, 3, 4, 1, 4, 1, 2, 3, 4, 1, 2, 3, 1, 2, 3, 1, 2, 1, 2, 4, 1, 2, 3, 4, 1, 2, 3, 4, 4, 1, 2, 3, 4, 1, 2, 2, 3, 4, 1, 2, 4, 1, 2, 4, 4, 1, 2, 4, 1, 2, 3, 4, 3, 1, 3, 4, 2, 3, 1, 2, 4, 3, 1, 2, 3, 4, 4, 1, 2, 3, 1, 2, 3, 4, 3, 1, 4, 2, 1, 4, 1, 2, 3, 4, 4, 1, 3, 4, 2, 2, 3, 4, 2, 2, 4, 3, 4, 1, 2, 3, 4, 2, 3, 4, 1, 2, 3, 4, 1, 2, 4, 1, 1, 2, 4, 4, 2, 1, 2, 3, 4, 1, 2, 3, 1, 2, 3, 4, 1, 2, 3, 2, 1, 2, 3, 4, 1, 2, 3, 4, 1, 3, 1, 2, 3, 4, 3, 1, 2, 3, 4, 4, 1, 1, 3, 1, 2, 1, 1, 2, 3, 4, 1, 2, 3, 4, 1, 1, 2, 3, 4, 2, 3, 3, 1, 2, 3, 4, 1, 3, 4, 3, 1, 3, 1, 2, 4, 1, 2, 3, 4, 1, 2, 3, 4, 1, 2, 3, 4, 1, 3, 2, 4, 3, 4, 1, 2, 3, 4, 3, 1, 2, 4, 4, 1, 3, 4, 1, 4, 1, 2, 3, 4, 3, 1, 2, 3, 4, 1, 1, 2, 1, 2, 3, 4, 4, 2, 3, 1, 2, 3, 4, 1, 4, 1, 3, 4, 1, 3, 1, 2, 3, 4, 1, 3, 4, 2, 3, 4, 4, 1, 1, 2, 4, 1, 2, 4, 1, 2, 3, 4, 3, 2, 4, 1, 4, 2, 1, 2, 3, 4, 2, 4, 3, 2, 3, 1, 2, 3, 4, 2, 4, 3, 2, 3, 4, 1, 2, 3, 4, 1, 2, 3, 4, 1, 1, 3, 4, 1, 4, 1, 2, 1, 2, 3, 1, 1, 2, 3, 4, 1, 2, 3, 4, 1, 2, 3, 4, 2, 1, 2, 3, 4, 3, 4, 1, 2, 3, 4, 1, 2, 3, 4, 1, 2, 2, 3, 4, 1, 4, 2, 3, 4, 1, 2, 3, 4, 1, 3, 1, 3, 4, 1, 2, 4, 3, 3], \"Freq\": [0.00896307432416739, 0.9859381756584129, 0.00896307432416739, 0.9733558518973475, 0.015450092887259485, 0.015450092887259485, 0.9847954891113893, 0.972889836593262, 0.20030111434664438, 0.011782418490979081, 0.7776396204046193, 0.011782418490979081, 0.9850153269889791, 0.021870259718040855, 0.9622914275937977, 0.010935129859020428, 0.9656977662814097, 0.9758425972653905, 0.01037314679637807, 0.7468665693392209, 0.031119440389134206, 0.21783608272393945, 0.020413950370965172, 0.9798696178063283, 0.9637421265255792, 0.022946241107751886, 0.010274195807413204, 0.7911130771708167, 0.18493552453343767, 0.010274195807413204, 0.32650444671717116, 0.05281689579248357, 0.08642764766042765, 0.5329704939059705, 0.16833730887964674, 0.054462070519885705, 0.3663812016792311, 0.4109410775591376, 0.9859208895773999, 0.9778199903783008, 0.021256956312571757, 0.33979314405849487, 0.021781611798621467, 0.3136552099001491, 0.326724176979322, 0.01452090722837382, 0.958379877072672, 0.01452090722837382, 0.007827077661354365, 0.7357453001673103, 0.258293562824694, 0.9908751553431279, 0.08928814309960179, 0.8928814309960178, 0.0783633088962983, 0.8508016394455244, 0.011194758413756901, 0.05597379206878451, 0.024488964031298476, 0.9795585612519391, 0.013057742030742184, 0.9532151682441794, 0.013057742030742184, 0.013057742030742184, 0.9763958464809668, 0.9782919140145957, 0.011646332309697568, 0.9624518728896793, 0.9557200489172636, 0.025150527603085886, 0.05393950509777268, 0.9349514216947264, 0.3773266520241726, 0.15668649109478353, 0.3389544501234093, 0.12790733966921106, 0.32395161445510223, 0.6543822611993065, 0.012958064578204089, 0.006479032289102044, 0.9856360988775528, 0.9126133369934943, 0.05165735869774496, 0.03443823913182997, 0.035177405851657205, 0.9322012550689158, 0.017588702925828602, 0.017588702925828602, 0.9803571044497535, 0.2623257947482536, 0.22560018348349814, 0.5089120418116121, 0.3389391429124762, 0.5639246084664474, 0.09934423154331197, 0.8163315892252222, 0.18659007753719367, 0.06566831634155533, 0.17511551024414754, 0.7551856379278863, 0.06376132698348967, 0.9245392412606002, 0.021046562204169252, 0.9681418613917856, 0.9706398578325511, 0.17526646809588967, 0.03505329361917793, 0.07010658723835586, 0.7220978485550654, 0.9722214431431434, 0.9939688832453717, 0.020008740259991314, 0.960419532479583, 0.04658816966442978, 0.9550574781208105, 0.9816247849439995, 0.9765431781063969, 0.506986888681786, 0.015270689418126083, 0.35733413238415035, 0.11911137746138345, 0.019413646085575803, 0.980389127321578, 0.26430093981548036, 0.3707078116892452, 0.2745983790290705, 0.08924447318444792, 0.14770006442226075, 0.46617832833276046, 0.004615627013195648, 0.3830970420952388, 0.9727261518241754, 0.981976520468128, 0.010683815129330516, 0.010683815129330516, 0.972227176769077, 0.9605727827092695, 0.02401431956773174, 0.9819772623853521, 0.026083286604441258, 0.9650816043643266, 0.11101500574010147, 0.01585928653430021, 0.8722607593865115, 0.45053473223913615, 0.5032568817564819, 0.033550458783765454, 0.00958584536679013, 0.012679317264482385, 0.9636281121006612, 0.012679317264482385, 0.9702003052860881, 0.016727591470449797, 0.08010800158953921, 0.9155200181661622, 0.8012684635800887, 0.18853375613649148, 0.007207510327643146, 0.3892055576927299, 0.06486759294878831, 0.540563274573236, 0.014733414865440697, 0.10313390405808487, 0.869271477061001, 0.9668275721913081, 0.9774631107891966, 0.09194907459318988, 0.7815671340421139, 0.12642997756563606, 0.9621182033173926, 0.024669697520958787, 0.9866886302451505, 0.9726900136532689, 0.9849791646297328, 0.9670832387368659, 0.018597754591093574, 0.9752933812111555, 0.9868677952495998, 0.9770591931646538, 0.9838131960096449, 0.9587648664048627, 0.02739328189728179, 0.47941642364845133, 0.012188553143604694, 0.41034795583469136, 0.10157127619670579, 0.10003630730623123, 0.6669087153748748, 0.23341805038120617, 0.8460995902285865, 0.03213036418589569, 0.11781133534828418, 0.012513623415552663, 0.006256811707776332, 0.22524522147994794, 0.7570742166409361, 0.9912811375759123, 0.9872597246510492, 0.06047412727775815, 0.3326077000276699, 0.6047412727775816, 0.24352042604812077, 0.7399274483769823, 0.00936617023262003, 0.8973982164388551, 0.09614980890416305, 0.9891411722467933, 0.011895479933445075, 0.6820075161841843, 0.13085027926789583, 0.1744670390238611, 0.01871583859907062, 0.9545077685526017, 0.01871583859907062, 0.9568365689545792, 0.020358224871374026, 0.5330775364374418, 0.026324816614194658, 0.4343594741342119, 0.9679546909716467, 0.9878624977941689, 0.030513379041964914, 0.968799784582386, 0.962706520106865, 0.9787111077892434, 0.3793443452651829, 0.0051262749360159844, 0.6100267173859022, 0.0051262749360159844, 0.17339823637128074, 0.06119937754280497, 0.7241926342565255, 0.040799585028536645, 0.9883688420727598, 0.9750496276795273, 0.018673544553242025, 0.009336772276621013, 0.009336772276621013, 0.9616875444919644, 0.0409666384895433, 0.9422326852594959, 0.474650471897374, 0.04520480684736895, 0.426216750275193, 0.05489155117180516, 0.9732062580334324, 0.9912432314528636, 0.849695300810502, 0.10050159471952175, 0.009136508610865613, 0.03654603444346245, 0.6361694430519741, 0.171765749624033, 0.1908508329155922, 0.010682948714877807, 0.940099486909247, 0.05341474357438904, 0.9843241556022305, 0.9872843389134486, 0.9796627011256211, 0.011260490817535876, 0.005630245408767938, 0.850718551224393, 0.04116380086569644, 0.013721266955232146, 0.09604886868662502, 0.08835999336142265, 0.03786856858346685, 0.650077094016181, 0.22089998340355663, 0.9798973870851463, 0.2905162163176523, 0.5761084289689037, 0.0344680256648062, 0.1034040769944186, 0.9754041919535898, 0.9789545003099935, 0.9534781139313443, 0.012069343214320814, 0.03620802964296244, 0.012615575312915512, 0.012615575312915512, 0.98401487440741, 0.572259782697312, 0.4152681608953946, 0.010128491729155965, 0.993061869466868, 0.92904954370162, 0.04354919736101343, 0.029032798240675624, 0.7864010558553877, 0.02986333123501472, 0.03981777498001963, 0.1393622124300687, 0.9752953749186981, 0.8542783923527427, 0.13380263976609222, 0.010292510751237863, 0.9851647104751969, 0.010593168929840828, 0.9646208055915241, 0.014397325456589912, 0.014397325456589912, 0.9847292617066159, 0.00706673245846971, 0.003533366229234855, 0.9858091779565246, 0.003533366229234855, 0.9638093341991427, 0.016408111638800526, 0.9516704750504305, 0.03281622327760105, 0.012442592774994004, 0.9705222364495323, 0.006221296387497002, 0.012442592774994004, 0.9812404094189043, 0.02226117823856453, 0.9794918424968392, 0.9852818057760481, 0.9883339950107694, 0.9903404868816259, 0.022621984032583486, 0.9199606839917284, 0.0037703306720972473, 0.05655496008145871, 0.9876701835390126, 0.040182528432431204, 0.020091264216215602, 0.9442894181621333, 0.9857576902029576, 0.018734962050832225, 0.018734962050832225, 0.9554830645924436, 0.9669640529655077, 0.16812872325750314, 0.8286344217691226, 0.9771502261839737, 0.9877985574217041, 0.05079169970417945, 0.5798719049560487, 0.2835869900150019, 0.08676915366130655, 0.02396181904539392, 0.9584727618157569, 0.02396181904539392, 0.13125463608589447, 0.005706723308082368, 0.8445950495961905, 0.017120169924247104, 0.9695579569194854, 0.010425354375478339, 0.020850708750956678, 0.969875534459008, 0.9421658214843547, 0.020046081308177758, 0.020046081308177758, 0.96922686564429, 0.9917112540580224, 0.46740788989219334, 0.101610410846129, 0.3302338352499192, 0.101610410846129, 0.6652650213940395, 0.03867819891825811, 0.29395431177876163, 0.20323244709044458, 0.5401704514772343, 0.24601822542527504, 0.01069644458370761, 0.5132569591029804, 0.2615636426197881, 0.2270175011417029, 0.983200443324852, 0.8629951918302924, 0.007016221071790995, 0.007016221071790995, 0.1333082003640289, 0.267725111250107, 0.2033880690117092, 0.3050821035175638, 0.22414195360474076, 0.7184276913250369, 0.27757433528467335, 0.8110267653136829, 0.12672293208026295, 0.01689639094403506, 0.04224097736008765, 0.9790038885173192, 0.936531796333962, 0.04162363539262053, 0.010405908848155133, 0.010405908848155133, 0.9837733238210439, 0.9810166388848736, 0.965781958898891, 0.01931563917797782, 0.9868595370354957, 0.9740729562292189, 0.988314885070232, 0.41329248584840655, 0.04105554495182846, 0.3640258319062124, 0.18064439778804525, 0.9773515814975557, 0.9669817959220758, 0.03453506414007413, 0.9772231552929772, 0.9747121855189294, 0.2787712646194951, 0.3228706737118446, 0.18269755195401938, 0.21577210877328148, 0.9609270358594394, 0.9847728462616449, 0.9635549456035546, 0.0404111560689693, 0.030308367051726976, 0.02020557803448465, 0.8991482225345669, 0.9750803231609526, 0.012876809338426179, 0.9786375097203897, 0.9799098855049058, 0.34525718203343064, 0.6529864094980101, 0.12843792030582135, 0.00856252802038809, 0.8648153300591972, 0.7011727398388475, 0.02662681290527269, 0.1686364817333937, 0.10650725162109076, 0.36124652431484877, 0.6020775405247479, 0.008919667267033303, 0.022299168167583257, 0.01219813419717043, 0.8660675279991005, 0.09758507357736344, 0.01219813419717043, 0.9771388780054997, 0.019542777560109994, 0.9733377676881394, 0.9727263390930114, 0.9390019149650032, 0.05315105179047187, 0.4250300987778957, 0.03863909988889961, 0.5151879985186615, 0.025759399925933072, 0.9896141548758056, 0.8218444193971702, 0.06522574757120399, 0.10436119611392639, 0.992543571531152, 0.35765415128878186, 0.0780336330084615, 0.5592410365606407, 0.0819844459304325, 0.913540968939105, 0.5712561000848853, 0.09912206302842758, 0.06782035891418729, 0.26084753428533575, 0.9640202246609206, 0.7847642358776191, 0.007693767018408031, 0.19234417546020077, 0.015387534036816062, 0.9915882122642351, 0.01589210741104029, 0.9853106594844979, 0.010920224185764145, 0.03276067255729243, 0.9282190557899522, 0.03276067255729243, 0.9710067044247074, 0.98254332622216, 0.013100577682962133, 0.3267784750607696, 0.015317741018473578, 0.2757193383325244, 0.3829435254618394, 0.38734295685889986, 0.604632908267551, 0.021613859647121734, 0.9293959648262345, 0.04322771929424347, 0.016296651381143154, 0.9615024314874461, 0.012496754669075434, 0.8622760721662049, 0.06248377334537717, 0.06248377334537717, 0.9896266612116652, 0.9939247212464023, 0.9932061696642248, 0.03403069884121771, 0.8847981698716605, 0.08507674710304428, 0.9786342828491142, 0.9923119941476437, 0.014987011158539074, 0.059948044634156296, 0.9291946918294226, 0.9114361939168226, 0.041905112363991845, 0.05238139045498981, 0.029812252955066995, 0.9241798416070768, 0.029812252955066995, 0.014906126477533498, 0.9769994987189389, 0.9294478146683757, 0.06094739768317218, 0.9553677042796874, 0.9921443133341028, 0.9881332273909496, 0.1573205598749038, 0.4551059053524002, 0.2696923883569779, 0.11237182848207412, 0.9689015346341717, 0.01977350070681983, 0.9851110922506481, 0.9753274957574206, 0.9921594878838779, 0.019546740423280588, 0.8698299488359862, 0.10750707232804324, 0.009773370211640294, 0.9870032078933608, 0.9689154009811035, 0.9860415930127435, 0.018258288276282238, 0.018258288276282238, 0.9676892786429585, 0.010767824277279051, 0.8506581179050451, 0.010767824277279051, 0.11844606705006956, 0.395948526967486, 0.5373587151701595, 0.04242305646080207, 0.028282037640534715, 0.9540120253508232, 0.01967793872259988, 0.9642189974073943, 0.01967793872259988, 0.9905251924352796, 0.007075179945966283, 0.021449027231382756, 0.9652062254122239, 0.13354809750688149, 0.014838677500764608, 0.8606432950443472, 0.9814718213780549, 0.7069172504225325, 0.055809256612305194, 0.13952314153076298, 0.09301542768717533, 0.3923874169074305, 0.004616322551852124, 0.39700373945928263, 0.20773451483334557, 0.08357303028186007, 0.38367618447581214, 0.23552399443069658, 0.2963043800902312, 0.9731989899350343, 0.3013855571863089, 0.21149863662197113, 0.03172479549329567, 0.4547220687372379, 0.022592806750110696, 0.97149069025476, 0.016974148692908093, 0.04243537173227024, 0.6959400964092318, 0.2546122303936214, 0.2113588925454535, 0.17773361418594955, 0.1921444477685941, 0.41791417389669216, 0.951470527997712, 0.039644605333238006, 0.9646376212442451, 0.010961791150502786, 0.02192358230100557, 0.8440585877601733, 0.15346519777457698, 0.12641736107396204, 0.003830829123453395, 0.8695982110239207, 0.16309602027406492, 0.5368577334021303, 0.24464403041109736, 0.05436534009135497, 0.9745542137946535, 0.027070950383184817, 0.026275902081526428, 0.9634497429893023, 0.008758634027175477, 0.008145345364692849, 0.13847087119977844, 0.8552612632927491, 0.9904655567206622, 0.992049659200895], \"Term\": [\"abc\", \"abc\", \"abc\", \"accid\", \"accid\", \"accid\", \"ad\", \"afghanistan\", \"ahead\", \"ahead\", \"ahead\", \"ahead\", \"aid\", \"alleg\", \"alleg\", \"alleg\", \"angri\", \"ask\", \"assault\", \"assault\", \"assault\", \"assault\", \"asylum\", \"asylum\", \"attempt\", \"attempt\", \"aussi\", \"aussi\", \"aussi\", \"aussi\", \"australia\", \"australia\", \"australia\", \"australia\", \"australian\", \"australian\", \"australian\", \"australian\", \"await\", \"babi\", \"babi\", \"back\", \"back\", \"back\", \"back\", \"bail\", \"bail\", \"bail\", \"ban\", \"ban\", \"ban\", \"beach\", \"beat\", \"beat\", \"begin\", \"begin\", \"begin\", \"begin\", \"better\", \"better\", \"bid\", \"bid\", \"bid\", \"bid\", \"board\", \"brisban\", \"brisban\", \"brother\", \"bulldog\", \"bulldog\", \"bush\", \"bush\", \"call\", \"call\", \"call\", \"call\", \"car\", \"car\", \"car\", \"car\", \"cat\", \"cattl\", \"cattl\", \"cattl\", \"caus\", \"caus\", \"caus\", \"caus\", \"celebr\", \"chang\", \"chang\", \"chang\", \"charg\", \"charg\", \"charg\", \"chief\", \"chief\", \"china\", \"china\", \"china\", \"clash\", \"clash\", \"climat\", \"climat\", \"coalit\", \"coast\", \"coast\", \"coast\", \"coast\", \"collaps\", \"condit\", \"confid\", \"confid\", \"contract\", \"contract\", \"control\", \"convict\", \"council\", \"council\", \"council\", \"council\", \"countri\", \"countri\", \"court\", \"court\", \"court\", \"court\", \"crash\", \"crash\", \"crash\", \"crash\", \"criticis\", \"cross\", \"cup\", \"cup\", \"cup\", \"cyclon\", \"cyclon\", \"dairi\", \"dam\", \"dam\", \"darwin\", \"darwin\", \"darwin\", \"death\", \"death\", \"death\", \"death\", \"decis\", \"decis\", \"decis\", \"defenc\", \"defenc\", \"defend\", \"defend\", \"deni\", \"deni\", \"die\", \"die\", \"die\", \"die\", \"dog\", \"dog\", \"dog\", \"dollar\", \"doubt\", \"drought\", \"drought\", \"drought\", \"drum\", \"drum\", \"econom\", \"economi\", \"edg\", \"educ\", \"educ\", \"effort\", \"escap\", \"evid\", \"export\", \"eye\", \"eye\", \"face\", \"face\", \"face\", \"face\", \"fall\", \"fall\", \"fall\", \"famili\", \"famili\", \"famili\", \"farmer\", \"farmer\", \"farmer\", \"farmer\", \"figur\", \"fiji\", \"final\", \"final\", \"final\", \"find\", \"find\", \"find\", \"fine\", \"fine\", \"finish\", \"fire\", \"fire\", \"fire\", \"fire\", \"fish\", \"fish\", \"fish\", \"flight\", \"flight\", \"flood\", \"flood\", \"flood\", \"focu\", \"form\", \"found\", \"found\", \"fourth\", \"french\", \"fund\", \"fund\", \"fund\", \"fund\", \"futur\", \"futur\", \"futur\", \"futur\", \"ga\", \"gain\", \"gold\", \"gold\", \"gold\", \"gold\", \"good\", \"good\", \"govt\", \"govt\", \"govt\", \"govt\", \"gp\", \"grand\", \"green\", \"green\", \"green\", \"green\", \"group\", \"group\", \"group\", \"guilti\", \"guilti\", \"guilti\", \"harvest\", \"hawk\", \"health\", \"health\", \"health\", \"hear\", \"hear\", \"hear\", \"hear\", \"help\", \"help\", \"help\", \"help\", \"higher\", \"hit\", \"hit\", \"hit\", \"hit\", \"hobart\", \"holiday\", \"home\", \"home\", \"home\", \"hour\", \"hour\", \"hour\", \"hous\", \"hous\", \"hous\", \"howard\", \"hunter\", \"hunter\", \"hunter\", \"indigen\", \"indigen\", \"indigen\", \"indigen\", \"indonesia\", \"industri\", \"industri\", \"industri\", \"injur\", \"injur\", \"inquiri\", \"inquiri\", \"inquiri\", \"interest\", \"interview\", \"interview\", \"interview\", \"interview\", \"israel\", \"issu\", \"issu\", \"issu\", \"jail\", \"jail\", \"jail\", \"jail\", \"japanes\", \"john\", \"john\", \"jone\", \"judg\", \"kangaroo\", \"kill\", \"kill\", \"kill\", \"kill\", \"king\", \"leagu\", \"leagu\", \"leagu\", \"level\", \"life\", \"life\", \"life\", \"like\", \"look\", \"look\", \"low\", \"major\", \"man\", \"man\", \"man\", \"man\", \"mark\", \"mark\", \"mark\", \"market\", \"market\", \"market\", \"market\", \"meet\", \"meet\", \"meet\", \"member\", \"mental\", \"mental\", \"mental\", \"militari\", \"mill\", \"mine\", \"mine\", \"mine\", \"mine\", \"minist\", \"minist\", \"minist\", \"miss\", \"miss\", \"miss\", \"miss\", \"murder\", \"murder\", \"murder\", \"music\", \"nation\", \"nation\", \"nation\", \"nation\", \"new\", \"new\", \"new\", \"new\", \"nsw\", \"nsw\", \"nt\", \"nt\", \"nt\", \"nt\", \"oil\", \"one\", \"one\", \"one\", \"one\", \"option\", \"pacif\", \"peopl\", \"peopl\", \"peter\", \"phone\", \"pilbara\", \"plan\", \"plan\", \"plan\", \"plan\", \"plane\", \"plead\", \"plead\", \"podcast\", \"point\", \"polic\", \"polic\", \"polic\", \"polic\", \"policeman\", \"problem\", \"product\", \"push\", \"push\", \"push\", \"push\", \"quarter\", \"rain\", \"rain\", \"rape\", \"rate\", \"rate\", \"record\", \"record\", \"record\", \"reject\", \"reject\", \"reject\", \"reject\", \"report\", \"report\", \"report\", \"report\", \"rescu\", \"rescu\", \"rescu\", \"rescu\", \"respons\", \"respons\", \"result\", \"revamp\", \"review\", \"review\", \"rise\", \"rise\", \"rise\", \"rise\", \"robberi\", \"rule\", \"rule\", \"rule\", \"russia\", \"sa\", \"sa\", \"sa\", \"safeti\", \"safeti\", \"say\", \"say\", \"say\", \"say\", \"scam\", \"school\", \"school\", \"school\", \"school\", \"se\", \"second\", \"second\", \"secur\", \"secur\", \"secur\", \"secur\", \"seeker\", \"sentenc\", \"sentenc\", \"set\", \"set\", \"set\", \"set\", \"sex\", \"sex\", \"share\", \"share\", \"share\", \"shire\", \"shire\", \"shoot\", \"shoot\", \"shoot\", \"shoot\", \"shortag\", \"slam\", \"southern\", \"sport\", \"sport\", \"sport\", \"spot\", \"spring\", \"star\", \"star\", \"star\", \"state\", \"state\", \"state\", \"station\", \"station\", \"station\", \"station\", \"stock\", \"storm\", \"storm\", \"summit\", \"survivor\", \"suspend\", \"sydney\", \"sydney\", \"sydney\", \"sydney\", \"tasmania\", \"tasmania\", \"terror\", \"theft\", \"third\", \"three\", \"three\", \"three\", \"three\", \"titl\", \"tough\", \"tourism\", \"track\", \"track\", \"track\", \"train\", \"train\", \"train\", \"train\", \"trial\", \"trial\", \"trial\", \"trial\", \"tsunami\", \"turn\", \"turn\", \"turn\", \"two\", \"two\", \"uk\", \"uk\", \"un\", \"un\", \"un\", \"uni\", \"union\", \"union\", \"union\", \"union\", \"urg\", \"urg\", \"urg\", \"urg\", \"us\", \"us\", \"us\", \"us\", \"vow\", \"wa\", \"wa\", \"wa\", \"wa\", \"wallabi\", \"wallabi\", \"want\", \"want\", \"want\", \"want\", \"warn\", \"warn\", \"warn\", \"warn\", \"wast\", \"wast\", \"weather\", \"weather\", \"weather\", \"welcom\", \"welcom\", \"win\", \"win\", \"win\", \"woman\", \"woman\", \"woman\", \"woman\", \"women\", \"women\", \"worker\", \"worker\", \"worker\", \"world\", \"world\", \"world\", \"worri\", \"zealand\"]}, \"R\": 30, \"lambda.step\": 0.01, \"plot.opts\": {\"xlab\": \"PC1\", \"ylab\": \"PC2\"}, \"topic.order\": [1, 4, 2, 3]};\n",
       "\n",
       "function LDAvis_load_lib(url, callback){\n",
       "  var s = document.createElement('script');\n",
       "  s.src = url;\n",
       "  s.async = true;\n",
       "  s.onreadystatechange = s.onload = callback;\n",
       "  s.onerror = function(){console.warn(\"failed to load library \" + url);};\n",
       "  document.getElementsByTagName(\"head\")[0].appendChild(s);\n",
       "}\n",
       "\n",
       "if(typeof(LDAvis) !== \"undefined\"){\n",
       "   // already loaded: just create the visualization\n",
       "   !function(LDAvis){\n",
       "       new LDAvis(\"#\" + \"ldavis_el1501221844498998728641886917\", ldavis_el1501221844498998728641886917_data);\n",
       "   }(LDAvis);\n",
       "}else if(typeof define === \"function\" && define.amd){\n",
       "   // require.js is available: use it to load d3/LDAvis\n",
       "   require.config({paths: {d3: \"https://d3js.org/d3.v5\"}});\n",
       "   require([\"d3\"], function(d3){\n",
       "      window.d3 = d3;\n",
       "      LDAvis_load_lib(\"https://cdn.jsdelivr.net/gh/bmabey/pyLDAvis@3.3.1/pyLDAvis/js/ldavis.v3.0.0.js\", function(){\n",
       "        new LDAvis(\"#\" + \"ldavis_el1501221844498998728641886917\", ldavis_el1501221844498998728641886917_data);\n",
       "      });\n",
       "    });\n",
       "}else{\n",
       "    // require.js not available: dynamically load d3 & LDAvis\n",
       "    LDAvis_load_lib(\"https://d3js.org/d3.v5.js\", function(){\n",
       "         LDAvis_load_lib(\"https://cdn.jsdelivr.net/gh/bmabey/pyLDAvis@3.3.1/pyLDAvis/js/ldavis.v3.0.0.js\", function(){\n",
       "                 new LDAvis(\"#\" + \"ldavis_el1501221844498998728641886917\", ldavis_el1501221844498998728641886917_data);\n",
       "            })\n",
       "         });\n",
       "}\n",
       "</script>"
      ],
      "text/plain": [
       "PreparedData(topic_coordinates=              x         y  topics  cluster       Freq\n",
       "topic                                                \n",
       "0      0.095999 -0.020006       1        1  26.070850\n",
       "3     -0.184145 -0.139050       2        1  25.952189\n",
       "1      0.160762 -0.051996       3        1  24.212654\n",
       "2     -0.072617  0.211052       4        1  23.764307, topic_info=          Term        Freq       Total Category  logprob  loglift\n",
       "130  interview  283.000000  283.000000  Default  30.0000  30.0000\n",
       "500        win  261.000000  261.000000  Default  29.0000  29.0000\n",
       "688       kill  265.000000  265.000000  Default  28.0000  28.0000\n",
       "138     health  177.000000  177.000000  Default  27.0000  27.0000\n",
       "238       jail  160.000000  160.000000  Default  26.0000  26.0000\n",
       "..         ...         ...         ...      ...      ...      ...\n",
       "55         say   99.534034  383.365709   Topic4  -5.5010   0.0885\n",
       "494        sex   64.407381  105.849349   Topic4  -5.9363   0.9402\n",
       "305        set   75.492676  195.851333   Topic4  -5.7775   0.4837\n",
       "124         us   78.116147  263.242818   Topic4  -5.7433   0.2221\n",
       "640       back   74.675113  229.551424   Topic4  -5.7884   0.3140\n",
       "\n",
       "[319 rows x 6 columns], token_table=      Topic      Freq     Term\n",
       "term                          \n",
       "496       2  0.008963      abc\n",
       "496       3  0.985938      abc\n",
       "496       4  0.008963      abc\n",
       "5         1  0.973356    accid\n",
       "5         3  0.015450    accid\n",
       "...     ...       ...      ...\n",
       "151       1  0.008145    world\n",
       "151       2  0.138471    world\n",
       "151       4  0.855261    world\n",
       "2641      3  0.990466    worri\n",
       "3465      3  0.992050  zealand\n",
       "\n",
       "[609 rows x 3 columns], R=30, lambda_step=0.01, plot_opts={'xlab': 'PC1', 'ylab': 'PC2'}, topic_order=[1, 4, 2, 3])"
      ]
     },
     "execution_count": 47,
     "metadata": {},
     "output_type": "execute_result"
    }
   ],
   "source": [
    "# TODO: show visualization results of the LDA\n",
    "import pyLDAvis\n",
    "import pyLDAvis.gensim_models\n",
    "\n",
    "pyLDAvis.enable_notebook()\n",
    "\n",
    "vis = pyLDAvis.gensim_models.prepare(lda_model, BOW, dictionary)\n",
    "vis"
   ]
  },
  {
   "cell_type": "markdown",
   "metadata": {},
   "source": [
    "Depending on your results, you can try to fine tune the algorithm: number of topics, hyperparameters...\n",
    "And check with others their results."
   ]
  }
 ],
 "metadata": {
  "kernelspec": {
   "display_name": "Python 3 (ipykernel)",
   "language": "python",
   "name": "python3"
  },
  "language_info": {
   "codemirror_mode": {
    "name": "ipython",
    "version": 3
   },
   "file_extension": ".py",
   "mimetype": "text/x-python",
   "name": "python",
   "nbconvert_exporter": "python",
   "pygments_lexer": "ipython3",
   "version": "3.9.7"
  },
  "toc": {
   "base_numbering": 1,
   "nav_menu": {},
   "number_sections": true,
   "sideBar": true,
   "skip_h1_title": false,
   "title_cell": "Table of Contents",
   "title_sidebar": "Contents",
   "toc_cell": false,
   "toc_position": {},
   "toc_section_display": true,
   "toc_window_display": false
  }
 },
 "nbformat": 4,
 "nbformat_minor": 4
}
