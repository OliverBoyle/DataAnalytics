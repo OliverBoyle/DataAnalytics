{
 "cells": [
  {
   "cell_type": "code",
   "execution_count": 1,
   "id": "a22b5859-fc64-4c07-9226-c76cb2547424",
   "metadata": {},
   "outputs": [],
   "source": [
    "from sklearn import datasets\n",
    "from sklearn.model_selection import train_test_split\n",
    "from sklearn.metrics import classification_report\n",
    "from sklearn.metrics import confusion_matrix\n",
    "from sklearn.model_selection import cross_val_score\n",
    "from sklearn.neighbors import KNeighborsClassifier\n",
    "from sklearn.svm import SVC\n",
    "from sklearn.naive_bayes import GaussianNB\n",
    "from sklearn.linear_model import LinearRegression\n",
    "from sklearn.linear_model import LogisticRegression\n",
    "\n",
    "import seaborn as sns\n",
    "import pandas as pd\n",
    "import numpy as numpy\n",
    "import matplotlib.pyplot as plt\n"
   ]
  },
  {
   "cell_type": "markdown",
   "id": "f413bdcf-396a-4a00-9b6d-3c8ac1700711",
   "metadata": {},
   "source": [
    "# Classification "
   ]
  },
  {
   "cell_type": "code",
   "execution_count": 162,
   "id": "c500c4be-4d0f-4c31-ac69-3c143a43edc5",
   "metadata": {},
   "outputs": [],
   "source": [
    "# Load digits dataset\n",
    "digits = datasets.load_digits()"
   ]
  },
  {
   "cell_type": "code",
   "execution_count": 163,
   "id": "e70e4d85-3448-4151-a19a-edf25406bb7e",
   "metadata": {},
   "outputs": [],
   "source": [
    "#create label and data array\n",
    "x = digits.data\n",
    "\n",
    "y = digits.target\n",
    "\n",
    "# Split into training and test set\n",
    "x_train, x_test, y_train, y_test = train_test_split(x, y, test_size = 0.2)"
   ]
  },
  {
   "cell_type": "markdown",
   "id": "72979f38-1f1c-450b-bbc0-8e53e1ea489b",
   "metadata": {},
   "source": [
    "## k-Nearest Neigbours"
   ]
  },
  {
   "cell_type": "code",
   "execution_count": 164,
   "id": "89cc1c43-a9de-4714-bc19-65bcbba0efc5",
   "metadata": {},
   "outputs": [
    {
     "name": "stdout",
     "output_type": "stream",
     "text": [
      "[1.0, 0.9874739039665971, 0.9923451635351427, 0.9895615866388309, 0.9909533750869868, 0.9874739039665971, 0.988865692414753, 0.9874739039665971]\n",
      "[0.9888888888888889, 0.9916666666666667, 0.9916666666666667, 0.9888888888888889, 0.9888888888888889, 0.9861111111111112, 0.9861111111111112, 0.9833333333333333]\n"
     ]
    }
   ],
   "source": [
    "# initiate lists\n",
    "train_score = []\n",
    "test_score = []\n",
    "\n",
    "# Loop to append kNN scores from 1-8\n",
    "for i in range(1,9):\n",
    "    \n",
    "    kNN = KNeighborsClassifier(n_neighbors=i)\n",
    "    kNN.fit(x_train, y_train)\n",
    "    train_score.append(kNN.score(x_train, y_train))\n",
    "    test_score.append(kNN.score(x_test, y_test))                   \n",
    "print(train_score)\n",
    "print(test_score)\n"
   ]
  },
  {
   "cell_type": "code",
   "execution_count": 165,
   "id": "9914d206-3a61-45f2-9c74-760b981eb7ac",
   "metadata": {},
   "outputs": [
    {
     "data": {
      "text/plain": [
       "<matplotlib.legend.Legend at 0x1e970c7f0d0>"
      ]
     },
     "execution_count": 165,
     "metadata": {},
     "output_type": "execute_result"
    },
    {
     "data": {
      "image/png": "[encoded data removed]",
      "text/plain": [
       "<Figure size 432x288 with 1 Axes>"
      ]
     },
     "metadata": {
      "needs_background": "light"
     },
     "output_type": "display_data"
    }
   ],
   "source": [
    "# Plot kNN test and train set accuracies\n",
    "plt.plot(range(1,9), train_score, label = 'Training Accuracy' )\n",
    "plt.plot(range(1,9), test_score, label = 'Testing Accuracy' )\n",
    "plt.xlabel('Number of Neighbours')\n",
    "plt.ylabel('Accuracy')\n",
    "plt.title('k-NN: Varying Number of Neighbours')\n",
    "plt.legend()"
   ]
  },
  {
   "cell_type": "raw",
   "id": "c99d626c-4830-4549-af8c-fec578e7da8a",
   "metadata": {},
   "source": [
    "Best k Conclusion:\n",
    "For the sample sets that I used k-2 was the best as it had the highest accuracy score. I have repeated this several times taking different samples for the test and training samples which has resulted in a range of different values for the best k values for each seperate analysis. This would suggest large variation in the data samples sets, making it difficult to accuratly pick a best k-value."
   ]
  },
  {
   "cell_type": "markdown",
   "id": "67d22631-f979-49e6-b06e-6442974f222b",
   "metadata": {},
   "source": [
    "## Support Vector Machine"
   ]
  },
  {
   "cell_type": "code",
   "execution_count": 166,
   "id": "4c8138ac-3b1b-47a1-ac4d-d7826868f9b8",
   "metadata": {},
   "outputs": [
    {
     "name": "stdout",
     "output_type": "stream",
     "text": [
      "              precision    recall  f1-score   support\n",
      "\n",
      "           0       0.98      1.00      0.99        40\n",
      "           1       0.93      0.97      0.95        39\n",
      "           2       1.00      1.00      1.00        31\n",
      "           3       0.93      1.00      0.96        26\n",
      "           4       1.00      1.00      1.00        46\n",
      "           5       1.00      0.94      0.97        34\n",
      "           6       1.00      0.95      0.97        41\n",
      "           7       1.00      1.00      1.00        39\n",
      "           8       0.94      0.86      0.90        35\n",
      "           9       0.90      0.97      0.93        29\n",
      "\n",
      "    accuracy                           0.97       360\n",
      "   macro avg       0.97      0.97      0.97       360\n",
      "weighted avg       0.97      0.97      0.97       360\n",
      "\n"
     ]
    }
   ],
   "source": [
    "# linear SVM\n",
    "svc = SVC(kernel='linear')\n",
    "svc.fit(x_train, y_train)\n",
    "y_pred = svc.predict(x_test)\n",
    "print(classification_report(y_test,y_pred))"
   ]
  },
  {
   "cell_type": "code",
   "execution_count": 167,
   "id": "08aa31da-1318-4e28-9835-8734f5c2af50",
   "metadata": {},
   "outputs": [
    {
     "name": "stdout",
     "output_type": "stream",
     "text": [
      "              precision    recall  f1-score   support\n",
      "\n",
      "           0       0.98      1.00      0.99        40\n",
      "           1       1.00      1.00      1.00        39\n",
      "           2       1.00      1.00      1.00        31\n",
      "           3       1.00      1.00      1.00        26\n",
      "           4       1.00      1.00      1.00        46\n",
      "           5       1.00      0.97      0.99        34\n",
      "           6       1.00      0.98      0.99        41\n",
      "           7       1.00      1.00      1.00        39\n",
      "           8       1.00      1.00      1.00        35\n",
      "           9       0.97      1.00      0.98        29\n",
      "\n",
      "    accuracy                           0.99       360\n",
      "   macro avg       0.99      0.99      0.99       360\n",
      "weighted avg       0.99      0.99      0.99       360\n",
      "\n"
     ]
    }
   ],
   "source": [
    "# Poly SVM\n",
    "svc2 = SVC(kernel='poly')\n",
    "svc2.fit(x_train, y_train)\n",
    "y_pred = svc2.predict(x_test)\n",
    "print(classification_report(y_test,y_pred))"
   ]
  },
  {
   "cell_type": "code",
   "execution_count": 168,
   "id": "851f19ca-d05f-4cc2-9056-1752804e495e",
   "metadata": {},
   "outputs": [
    {
     "name": "stdout",
     "output_type": "stream",
     "text": [
      "              precision    recall  f1-score   support\n",
      "\n",
      "           0       0.98      1.00      0.99        40\n",
      "           1       0.82      0.82      0.82        39\n",
      "           2       0.97      0.94      0.95        31\n",
      "           3       0.96      0.96      0.96        26\n",
      "           4       0.94      0.98      0.96        46\n",
      "           5       1.00      0.91      0.95        34\n",
      "           6       0.97      0.95      0.96        41\n",
      "           7       0.86      0.97      0.92        39\n",
      "           8       0.93      0.74      0.83        35\n",
      "           9       0.85      0.97      0.90        29\n",
      "\n",
      "    accuracy                           0.93       360\n",
      "   macro avg       0.93      0.92      0.92       360\n",
      "weighted avg       0.93      0.93      0.92       360\n",
      "\n"
     ]
    }
   ],
   "source": [
    "# Sigmoid SVM\n",
    "svc3 = SVC(kernel='sigmoid')\n",
    "svc3.fit(x_train, y_train)\n",
    "y_pred = svc3.predict(x_test)\n",
    "print(classification_report(y_test,y_pred))"
   ]
  },
  {
   "cell_type": "code",
   "execution_count": 10,
   "id": "98ea38b6-053d-4927-a36d-35be3e23ebc7",
   "metadata": {},
   "outputs": [],
   "source": [
    "# I would select the poly kernel. It has shown the highest precision and accuracy values"
   ]
  },
  {
   "cell_type": "markdown",
   "id": "9526bece-dc31-435f-b491-606fc7fa610c",
   "metadata": {},
   "source": [
    "## Naive Bayes"
   ]
  },
  {
   "cell_type": "code",
   "execution_count": 169,
   "id": "4750389b-8961-4c97-9c63-9d16592310f5",
   "metadata": {},
   "outputs": [
    {
     "data": {
      "image/png": "[encoded data removed]",
      "text/plain": [
       "<Figure size 720x576 with 2 Axes>"
      ]
     },
     "metadata": {
      "needs_background": "light"
     },
     "output_type": "display_data"
    }
   ],
   "source": [
    "from sklearn.metrics import confusion_matrix\n",
    "import seaborn as sns\n",
    "from sklearn.naive_bayes import GaussianNB\n",
    "\n",
    "bayes = GaussianNB()\n",
    "bayes.fit(x_train, y_train)\n",
    "\n",
    "bayes.score(x_test, y_test)\n",
    "y_pred = bayes.predict(x_test)\n",
    "conf_matrix =confusion_matrix(y_test, y_pred)\n",
    "plt.figure(figsize=(10,8))\n",
    "sns.heatmap(conf_matrix, annot = True)\n",
    "plt.xlabel('Predicted Label')\n",
    "plt.ylabel('True Label')\n",
    "plt.show()"
   ]
  },
  {
   "cell_type": "code",
   "execution_count": 119,
   "id": "5cfd5171-cae8-4ec0-a327-dee3c57c0d70",
   "metadata": {},
   "outputs": [
    {
     "data": {
      "image/png": "[encoded data removed]",
      "text/plain": [
       "<Figure size 432x288 with 1 Axes>"
      ]
     },
     "metadata": {
      "needs_background": "light"
     },
     "output_type": "display_data"
    }
   ],
   "source": [
    "# kNN classifier score\n",
    "\n",
    "# Bar plot for classifiers\n",
    "fig = plt.figure()\n",
    "ax = fig.add_axes([0,0,1,1])\n",
    "\n",
    "# Plot Bayes, svm kNN\n",
    "data = {'Bayes':bayes.score(x_test, y_test), 'kNN':kNN.score(x_test, y_test), 'SVM':svc2.score(x_train, y_train)}\n",
    "test_type = list(data.keys())\n",
    "test_score = list(data.values())\n",
    "\n",
    "ax.bar(test_type,test_score)\n",
    "plt.ylabel('Accuracy')\n",
    "plt.xlabel('Classifier')\n",
    "plt.show()\n",
    "\n",
    "\n"
   ]
  },
  {
   "cell_type": "markdown",
   "id": "441c2209-f6f9-4996-b449-3dc64c5beaf7",
   "metadata": {},
   "source": [
    "# Regression"
   ]
  },
  {
   "cell_type": "markdown",
   "id": "dbbbc17c-1b8d-42f2-9ada-35945a924617",
   "metadata": {},
   "source": [
    "## Linear Regression"
   ]
  },
  {
   "cell_type": "code",
   "execution_count": 66,
   "id": "0bfa6b2d-9ee4-40f6-a50c-9e5256c0392f",
   "metadata": {},
   "outputs": [
    {
     "data": {
      "text/html": [
       "<div>\n",
       "<style scoped>\n",
       "    .dataframe tbody tr th:only-of-type {\n",
       "        vertical-align: middle;\n",
       "    }\n",
       "\n",
       "    .dataframe tbody tr th {\n",
       "        vertical-align: top;\n",
       "    }\n",
       "\n",
       "    .dataframe thead th {\n",
       "        text-align: right;\n",
       "    }\n",
       "</style>\n",
       "<table border=\"1\" class=\"dataframe\">\n",
       "  <thead>\n",
       "    <tr style=\"text-align: right;\">\n",
       "      <th></th>\n",
       "      <th>population</th>\n",
       "      <th>fertility</th>\n",
       "      <th>HIV</th>\n",
       "      <th>CO2</th>\n",
       "      <th>BMI_male</th>\n",
       "      <th>GDP</th>\n",
       "      <th>BMI_female</th>\n",
       "      <th>life</th>\n",
       "      <th>child_mortality</th>\n",
       "      <th>Region</th>\n",
       "    </tr>\n",
       "  </thead>\n",
       "  <tbody>\n",
       "    <tr>\n",
       "      <th>0</th>\n",
       "      <td>34811059</td>\n",
       "      <td>2.73</td>\n",
       "      <td>0.1</td>\n",
       "      <td>3.328945</td>\n",
       "      <td>24.59620</td>\n",
       "      <td>12314</td>\n",
       "      <td>129.9049</td>\n",
       "      <td>75.3</td>\n",
       "      <td>29.5</td>\n",
       "      <td>Middle East &amp; North Africa</td>\n",
       "    </tr>\n",
       "    <tr>\n",
       "      <th>1</th>\n",
       "      <td>19842251</td>\n",
       "      <td>6.43</td>\n",
       "      <td>2.0</td>\n",
       "      <td>1.474353</td>\n",
       "      <td>22.25083</td>\n",
       "      <td>7103</td>\n",
       "      <td>130.1247</td>\n",
       "      <td>58.3</td>\n",
       "      <td>192.0</td>\n",
       "      <td>Sub-Saharan Africa</td>\n",
       "    </tr>\n",
       "    <tr>\n",
       "      <th>2</th>\n",
       "      <td>40381860</td>\n",
       "      <td>2.24</td>\n",
       "      <td>0.5</td>\n",
       "      <td>4.785170</td>\n",
       "      <td>27.50170</td>\n",
       "      <td>14646</td>\n",
       "      <td>118.8915</td>\n",
       "      <td>75.5</td>\n",
       "      <td>15.4</td>\n",
       "      <td>America</td>\n",
       "    </tr>\n",
       "    <tr>\n",
       "      <th>3</th>\n",
       "      <td>2975029</td>\n",
       "      <td>1.40</td>\n",
       "      <td>0.1</td>\n",
       "      <td>1.804106</td>\n",
       "      <td>25.35542</td>\n",
       "      <td>7383</td>\n",
       "      <td>132.8108</td>\n",
       "      <td>72.5</td>\n",
       "      <td>20.0</td>\n",
       "      <td>Europe &amp; Central Asia</td>\n",
       "    </tr>\n",
       "    <tr>\n",
       "      <th>4</th>\n",
       "      <td>21370348</td>\n",
       "      <td>1.96</td>\n",
       "      <td>0.1</td>\n",
       "      <td>18.016313</td>\n",
       "      <td>27.56373</td>\n",
       "      <td>41312</td>\n",
       "      <td>117.3755</td>\n",
       "      <td>81.5</td>\n",
       "      <td>5.2</td>\n",
       "      <td>East Asia &amp; Pacific</td>\n",
       "    </tr>\n",
       "  </tbody>\n",
       "</table>\n",
       "</div>"
      ],
      "text/plain": [
       "   population  fertility  HIV        CO2  BMI_male    GDP  BMI_female  life  \\\n",
       "0    34811059       2.73  0.1   3.328945  24.59620  12314    129.9049  75.3   \n",
       "1    19842251       6.43  2.0   1.474353  22.25083   7103    130.1247  58.3   \n",
       "2    40381860       2.24  0.5   4.785170  27.50170  14646    118.8915  75.5   \n",
       "3     2975029       1.40  0.1   1.804106  25.35542   7383    132.8108  72.5   \n",
       "4    21370348       1.96  0.1  18.016313  27.56373  41312    117.3755  81.5   \n",
       "\n",
       "   child_mortality                      Region  \n",
       "0             29.5  Middle East & North Africa  \n",
       "1            192.0          Sub-Saharan Africa  \n",
       "2             15.4                     America  \n",
       "3             20.0       Europe & Central Asia  \n",
       "4              5.2         East Asia & Pacific  "
      ]
     },
     "execution_count": 66,
     "metadata": {},
     "output_type": "execute_result"
    }
   ],
   "source": [
    "df = pd.read_csv(\"gapminder.csv\")\n",
    "df.head()"
   ]
  },
  {
   "cell_type": "code",
   "execution_count": 38,
   "id": "e4e38426-5261-46a6-b6da-63cbeff019be",
   "metadata": {},
   "outputs": [
    {
     "data": {
      "image/png": "[encoded data removed]",
      "text/plain": [
       "<Figure size 432x288 with 2 Axes>"
      ]
     },
     "metadata": {
      "needs_background": "light"
     },
     "output_type": "display_data"
    }
   ],
   "source": [
    "# # Plot heatmap\n",
    "#plt.figure(figsize=(10,10))\n",
    "heat_map = sns.heatmap(df.corr(), cmap='RdYlGn', square = True)\n",
    "\n",
    "# # sets the labels at different angles\n",
    "# heat_map.set_xticklabels(heat_map.get_xticklabels(), rotation=90, horizontalalignment='right')\n",
    "# heat_map.set_yticklabels(heat_map.get_yticklabels(), rotation=0, horizontalalignment='right')\n"
   ]
  },
  {
   "cell_type": "code",
   "execution_count": 24,
   "id": "2feeecd6-d6a4-4a35-b483-078fb96d937a",
   "metadata": {},
   "outputs": [
    {
     "name": "stdout",
     "output_type": "stream",
     "text": [
      "0.6192442167740035\n"
     ]
    },
    {
     "data": {
      "image/png": "[encoded data removed]",
      "text/plain": [
       "<Figure size 432x288 with 1 Axes>"
      ]
     },
     "metadata": {
      "needs_background": "light"
     },
     "output_type": "display_data"
    }
   ],
   "source": [
    "# Linear regression using fertility agains life\n",
    "x = df[['fertility']]\n",
    "y = df['life']\n",
    "\n",
    "regression = LinearRegression()\n",
    "regression.fit(x,y)\n",
    "print(regression.score(x,y))\n",
    "\n",
    "fig, ax = plt.plot(x,y, 'bo', x, regression.predict(x), '-k')"
   ]
  },
  {
   "cell_type": "code",
   "execution_count": 25,
   "id": "2250eda6-62c4-4604-b123-2bd558236e99",
   "metadata": {},
   "outputs": [
    {
     "data": {
      "text/plain": [
       "LinearRegression()"
      ]
     },
     "execution_count": 25,
     "metadata": {},
     "output_type": "execute_result"
    }
   ],
   "source": [
    "#Linear regression with all features against life\n",
    "X = df[['population', 'fertility', 'HIV', 'CO2', 'BMI_male', 'GDP', 'BMI_female', 'child_mortality']]\n",
    "y = df['life']\n",
    "\n",
    "regression_all = LinearRegression()\n",
    "regression_all.fit(X,y)\n"
   ]
  },
  {
   "cell_type": "code",
   "execution_count": 26,
   "id": "def24373-4fdd-40d2-96df-5b9f4627d500",
   "metadata": {},
   "outputs": [
    {
     "name": "stdout",
     "output_type": "stream",
     "text": [
      "[0.71001079 0.75007717 0.55271526 0.547501   0.52410561]\n",
      "[0.81720569 0.82917058 0.90214134 0.80633989 0.94495637]\n"
     ]
    }
   ],
   "source": [
    "# 5-fold cross-validation for both regressions\n",
    "print(cross_val_score(regression, x, y, cv = 5))\n",
    "print(cross_val_score(regression_all, X, y))"
   ]
  },
  {
   "cell_type": "raw",
   "id": "8428259f-a8f7-4f45-a43a-738b51255815",
   "metadata": {},
   "source": [
    "The cross validation results would suggest that the regression model with all featuers represents life more accurately than just the single feature of fertility. "
   ]
  },
  {
   "cell_type": "markdown",
   "id": "803e214f-90d7-402f-9466-7b5687ff804a",
   "metadata": {},
   "source": [
    "## Logistic Regression"
   ]
  },
  {
   "cell_type": "code",
   "execution_count": 67,
   "id": "a72e7034-1aca-45ec-ad48-c12bc9a0fc03",
   "metadata": {},
   "outputs": [
    {
     "name": "stdout",
     "output_type": "stream",
     "text": [
      "(284807, 31)\n"
     ]
    },
    {
     "data": {
      "text/html": [
       "<div>\n",
       "<style scoped>\n",
       "    .dataframe tbody tr th:only-of-type {\n",
       "        vertical-align: middle;\n",
       "    }\n",
       "\n",
       "    .dataframe tbody tr th {\n",
       "        vertical-align: top;\n",
       "    }\n",
       "\n",
       "    .dataframe thead th {\n",
       "        text-align: right;\n",
       "    }\n",
       "</style>\n",
       "<table border=\"1\" class=\"dataframe\">\n",
       "  <thead>\n",
       "    <tr style=\"text-align: right;\">\n",
       "      <th></th>\n",
       "      <th>Time</th>\n",
       "      <th>V1</th>\n",
       "      <th>V2</th>\n",
       "      <th>V3</th>\n",
       "      <th>V4</th>\n",
       "      <th>V5</th>\n",
       "      <th>V6</th>\n",
       "      <th>V7</th>\n",
       "      <th>V8</th>\n",
       "      <th>V9</th>\n",
       "      <th>...</th>\n",
       "      <th>V21</th>\n",
       "      <th>V22</th>\n",
       "      <th>V23</th>\n",
       "      <th>V24</th>\n",
       "      <th>V25</th>\n",
       "      <th>V26</th>\n",
       "      <th>V27</th>\n",
       "      <th>V28</th>\n",
       "      <th>Amount</th>\n",
       "      <th>Class</th>\n",
       "    </tr>\n",
       "  </thead>\n",
       "  <tbody>\n",
       "    <tr>\n",
       "      <th>0</th>\n",
       "      <td>0.0</td>\n",
       "      <td>-1.359807</td>\n",
       "      <td>-0.072781</td>\n",
       "      <td>2.536347</td>\n",
       "      <td>1.378155</td>\n",
       "      <td>-0.338321</td>\n",
       "      <td>0.462388</td>\n",
       "      <td>0.239599</td>\n",
       "      <td>0.098698</td>\n",
       "      <td>0.363787</td>\n",
       "      <td>...</td>\n",
       "      <td>-0.018307</td>\n",
       "      <td>0.277838</td>\n",
       "      <td>-0.110474</td>\n",
       "      <td>0.066928</td>\n",
       "      <td>0.128539</td>\n",
       "      <td>-0.189115</td>\n",
       "      <td>0.133558</td>\n",
       "      <td>-0.021053</td>\n",
       "      <td>149.62</td>\n",
       "      <td>0</td>\n",
       "    </tr>\n",
       "    <tr>\n",
       "      <th>1</th>\n",
       "      <td>0.0</td>\n",
       "      <td>1.191857</td>\n",
       "      <td>0.266151</td>\n",
       "      <td>0.166480</td>\n",
       "      <td>0.448154</td>\n",
       "      <td>0.060018</td>\n",
       "      <td>-0.082361</td>\n",
       "      <td>-0.078803</td>\n",
       "      <td>0.085102</td>\n",
       "      <td>-0.255425</td>\n",
       "      <td>...</td>\n",
       "      <td>-0.225775</td>\n",
       "      <td>-0.638672</td>\n",
       "      <td>0.101288</td>\n",
       "      <td>-0.339846</td>\n",
       "      <td>0.167170</td>\n",
       "      <td>0.125895</td>\n",
       "      <td>-0.008983</td>\n",
       "      <td>0.014724</td>\n",
       "      <td>2.69</td>\n",
       "      <td>0</td>\n",
       "    </tr>\n",
       "    <tr>\n",
       "      <th>2</th>\n",
       "      <td>1.0</td>\n",
       "      <td>-1.358354</td>\n",
       "      <td>-1.340163</td>\n",
       "      <td>1.773209</td>\n",
       "      <td>0.379780</td>\n",
       "      <td>-0.503198</td>\n",
       "      <td>1.800499</td>\n",
       "      <td>0.791461</td>\n",
       "      <td>0.247676</td>\n",
       "      <td>-1.514654</td>\n",
       "      <td>...</td>\n",
       "      <td>0.247998</td>\n",
       "      <td>0.771679</td>\n",
       "      <td>0.909412</td>\n",
       "      <td>-0.689281</td>\n",
       "      <td>-0.327642</td>\n",
       "      <td>-0.139097</td>\n",
       "      <td>-0.055353</td>\n",
       "      <td>-0.059752</td>\n",
       "      <td>378.66</td>\n",
       "      <td>0</td>\n",
       "    </tr>\n",
       "    <tr>\n",
       "      <th>3</th>\n",
       "      <td>1.0</td>\n",
       "      <td>-0.966272</td>\n",
       "      <td>-0.185226</td>\n",
       "      <td>1.792993</td>\n",
       "      <td>-0.863291</td>\n",
       "      <td>-0.010309</td>\n",
       "      <td>1.247203</td>\n",
       "      <td>0.237609</td>\n",
       "      <td>0.377436</td>\n",
       "      <td>-1.387024</td>\n",
       "      <td>...</td>\n",
       "      <td>-0.108300</td>\n",
       "      <td>0.005274</td>\n",
       "      <td>-0.190321</td>\n",
       "      <td>-1.175575</td>\n",
       "      <td>0.647376</td>\n",
       "      <td>-0.221929</td>\n",
       "      <td>0.062723</td>\n",
       "      <td>0.061458</td>\n",
       "      <td>123.50</td>\n",
       "      <td>0</td>\n",
       "    </tr>\n",
       "    <tr>\n",
       "      <th>4</th>\n",
       "      <td>2.0</td>\n",
       "      <td>-1.158233</td>\n",
       "      <td>0.877737</td>\n",
       "      <td>1.548718</td>\n",
       "      <td>0.403034</td>\n",
       "      <td>-0.407193</td>\n",
       "      <td>0.095921</td>\n",
       "      <td>0.592941</td>\n",
       "      <td>-0.270533</td>\n",
       "      <td>0.817739</td>\n",
       "      <td>...</td>\n",
       "      <td>-0.009431</td>\n",
       "      <td>0.798278</td>\n",
       "      <td>-0.137458</td>\n",
       "      <td>0.141267</td>\n",
       "      <td>-0.206010</td>\n",
       "      <td>0.502292</td>\n",
       "      <td>0.219422</td>\n",
       "      <td>0.215153</td>\n",
       "      <td>69.99</td>\n",
       "      <td>0</td>\n",
       "    </tr>\n",
       "  </tbody>\n",
       "</table>\n",
       "<p>5 rows × 31 columns</p>\n",
       "</div>"
      ],
      "text/plain": [
       "   Time        V1        V2        V3        V4        V5        V6        V7  \\\n",
       "0   0.0 -1.359807 -0.072781  2.536347  1.378155 -0.338321  0.462388  0.239599   \n",
       "1   0.0  1.191857  0.266151  0.166480  0.448154  0.060018 -0.082361 -0.078803   \n",
       "2   1.0 -1.358354 -1.340163  1.773209  0.379780 -0.503198  1.800499  0.791461   \n",
       "3   1.0 -0.966272 -0.185226  1.792993 -0.863291 -0.010309  1.247203  0.237609   \n",
       "4   2.0 -1.158233  0.877737  1.548718  0.403034 -0.407193  0.095921  0.592941   \n",
       "\n",
       "         V8        V9  ...       V21       V22       V23       V24       V25  \\\n",
       "0  0.098698  0.363787  ... -0.018307  0.277838 -0.110474  0.066928  0.128539   \n",
       "1  0.085102 -0.255425  ... -0.225775 -0.638672  0.101288 -0.339846  0.167170   \n",
       "2  0.247676 -1.514654  ...  0.247998  0.771679  0.909412 -0.689281 -0.327642   \n",
       "3  0.377436 -1.387024  ... -0.108300  0.005274 -0.190321 -1.175575  0.647376   \n",
       "4 -0.270533  0.817739  ... -0.009431  0.798278 -0.137458  0.141267 -0.206010   \n",
       "\n",
       "        V26       V27       V28  Amount  Class  \n",
       "0 -0.189115  0.133558 -0.021053  149.62      0  \n",
       "1  0.125895 -0.008983  0.014724    2.69      0  \n",
       "2 -0.139097 -0.055353 -0.059752  378.66      0  \n",
       "3 -0.221929  0.062723  0.061458  123.50      0  \n",
       "4  0.502292  0.219422  0.215153   69.99      0  \n",
       "\n",
       "[5 rows x 31 columns]"
      ]
     },
     "execution_count": 67,
     "metadata": {},
     "output_type": "execute_result"
    }
   ],
   "source": [
    "# load creditcard\n",
    "df = pd.read_csv(\"creditcard.csv\")\n",
    "print(df.shape)\n",
    "df.head()"
   ]
  },
  {
   "cell_type": "code",
   "execution_count": 68,
   "id": "bbe30c33-7705-4534-9da2-d3aaf2a062ec",
   "metadata": {},
   "outputs": [
    {
     "name": "stdout",
     "output_type": "stream",
     "text": [
      "492 frauds,  284315 nonfrauds.\n"
     ]
    },
    {
     "data": {
      "text/plain": [
       "<matplotlib.legend.Legend at 0x1e970a86c40>"
      ]
     },
     "execution_count": 68,
     "metadata": {},
     "output_type": "execute_result"
    },
    {
     "data": {
      "image/png": "[encoded data removed]",
      "text/plain": [
       "<Figure size 432x288 with 1 Axes>"
      ]
     },
     "metadata": {
      "needs_background": "light"
     },
     "output_type": "display_data"
    }
   ],
   "source": [
    "# plot graph with classes fraud and non-fraud\n",
    "frauds = df.loc[df['Class'] ==1]\n",
    "non_fraud = df.loc[df['Class'] ==0]\n",
    "print(len(frauds), \"frauds, \", len(non_fraud), \"nonfrauds.\")\n",
    "plt.plot(frauds.Amount, frauds.Class, 'o', color= 'orange', label= 'Fraud')\n",
    "plt.plot(non_fraud.Amount, non_fraud.Class, 'o', color= 'blue', label= 'Normal')\n",
    "plt.ylabel('Class')\n",
    "plt.xlabel('Amount')\n",
    "plt.legend()"
   ]
  },
  {
   "cell_type": "raw",
   "id": "33610ddc-0d90-408f-87c6-b395c7b7f204",
   "metadata": {},
   "source": [
    "The fraud class is grouped with tansaction ranging from approximately 0-30,000. Whereas, the normal transaction are mainly between the range of 0 and 90,000 with some scattered transcations up to approximtly 260,000. This would suggest that most frauds occur with lower transaction amounts that normal trancactions."
   ]
  },
  {
   "cell_type": "code",
   "execution_count": 121,
   "id": "5d6a5702-cb3e-4916-913c-592e1cb30dff",
   "metadata": {},
   "outputs": [
    {
     "name": "stderr",
     "output_type": "stream",
     "text": [
      "C:\\Users\\Ollie\\anaconda3\\lib\\site-packages\\sklearn\\linear_model\\_logistic.py:763: ConvergenceWarning: lbfgs failed to converge (status=1):\n",
      "STOP: TOTAL NO. of ITERATIONS REACHED LIMIT.\n",
      "\n",
      "Increase the number of iterations (max_iter) or scale the data as shown in:\n",
      "    https://scikit-learn.org/stable/modules/preprocessing.html\n",
      "Please also refer to the documentation for alternative solver options:\n",
      "    https://scikit-learn.org/stable/modules/linear_model.html#logistic-regression\n",
      "  n_iter_i = _check_optimize_result(\n"
     ]
    },
    {
     "data": {
      "text/plain": [
       "<AxesSubplot:>"
      ]
     },
     "execution_count": 121,
     "metadata": {},
     "output_type": "execute_result"
    },
    {
     "data": {
      "image/png": "[encoded data removed]",
      "text/plain": [
       "<Figure size 432x288 with 2 Axes>"
      ]
     },
     "metadata": {
      "needs_background": "light"
     },
     "output_type": "display_data"
    }
   ],
   "source": [
    "# Logistic regression\n",
    "X = df.drop('Class', axis = 1)\n",
    "y = df.Class\n",
    "\n",
    "log_regression = LogisticRegression()\n",
    "log_regression.fit(X,y)\n",
    "y_pred = log_regression.predict(X)\n",
    "conf_matrix = confusion_matrix(y, y_pred)\n",
    "sns.heatmap(conf_matrix, annot = True, fmt='g')"
   ]
  },
  {
   "cell_type": "code",
   "execution_count": null,
   "id": "e86280d0-2fce-4dab-9a46-2e66af54716a",
   "metadata": {},
   "outputs": [],
   "source": []
  },
  {
   "cell_type": "code",
   "execution_count": null,
   "id": "cee3379b-9ef9-42b3-a798-0f81a35bd01f",
   "metadata": {},
   "outputs": [],
   "source": []
  },
  {
   "cell_type": "code",
   "execution_count": null,
   "id": "f2bc3ceb-a73e-406a-abb2-26af5a4cc14d",
   "metadata": {},
   "outputs": [],
   "source": []
  }
 ],
 "metadata": {
  "kernelspec": {
   "display_name": "Python 3 (ipykernel)",
   "language": "python",
   "name": "python3"
  },
  "language_info": {
   "codemirror_mode": {
    "name": "ipython",
    "version": 3
   },
   "file_extension": ".py",
   "mimetype": "text/x-python",
   "name": "python",
   "nbconvert_exporter": "python",
   "pygments_lexer": "ipython3",
   "version": "3.9.7"
  },
  "toc-autonumbering": false,
  "toc-showcode": false,
  "toc-showmarkdowntxt": true,
  "toc-showtags": true
 },
 "nbformat": 4,
 "nbformat_minor": 5
}
